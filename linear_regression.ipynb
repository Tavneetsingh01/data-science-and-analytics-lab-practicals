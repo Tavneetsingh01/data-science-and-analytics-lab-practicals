{
 "cells": [
  {
   "cell_type": "code",
   "execution_count": 1,
   "id": "2aee9401-dca6-4ca7-8356-1c4ecf3bd2c1",
   "metadata": {
    "ExecuteTime": {
     "end_time": "2024-10-01T15:04:29.875440Z",
     "start_time": "2024-10-01T15:04:29.868345Z"
    }
   },
   "outputs": [],
   "source": [
    "# Step 1: Importing required libraries\n",
    "\n",
    "import pandas as pd\n",
    "\n",
    "from sklearn.linear_model import LinearRegression\n",
    "\n",
    "from sklearn.model_selection import train_test_split\n",
    "\n",
    "from sklearn.metrics import accuracy_score, mean_squared_error, mean_absolute_error, r2_score, root_mean_squared_error\n",
    "\n",
    "from sklearn.preprocessing import LabelEncoder\n",
    "\n",
    "import matplotlib.pyplot as plt\n",
    "\n",
    "import seaborn as sns\n",
    "\n",
    "import numpy as np"
   ]
  },
  {
   "cell_type": "code",
   "execution_count": 2,
   "id": "9608380a-d6db-42df-96fc-248ab65dde20",
   "metadata": {
    "ExecuteTime": {
     "end_time": "2024-10-01T15:04:33.531820Z",
     "start_time": "2024-10-01T15:04:33.513482Z"
    }
   },
   "outputs": [],
   "source": [
    "# Step 2: Reading Dataset\n",
    "salary_data=pd.read_csv(\"datasets/Salary.csv\")"
   ]
  },
  {
   "cell_type": "code",
   "execution_count": 3,
   "id": "493703ff-0a26-4ac5-9fcb-fee9c317987d",
   "metadata": {
    "ExecuteTime": {
     "end_time": "2024-10-01T15:04:35.310769Z",
     "start_time": "2024-10-01T15:04:35.157151Z"
    }
   },
   "outputs": [
    {
     "data": {
      "text/html": [
       "<div>\n",
       "<style scoped>\n",
       "    .dataframe tbody tr th:only-of-type {\n",
       "        vertical-align: middle;\n",
       "    }\n",
       "\n",
       "    .dataframe tbody tr th {\n",
       "        vertical-align: top;\n",
       "    }\n",
       "\n",
       "    .dataframe thead th {\n",
       "        text-align: right;\n",
       "    }\n",
       "</style>\n",
       "<table border=\"1\" class=\"dataframe\">\n",
       "  <thead>\n",
       "    <tr style=\"text-align: right;\">\n",
       "      <th></th>\n",
       "      <th>YearsExperience</th>\n",
       "      <th>Salary</th>\n",
       "    </tr>\n",
       "  </thead>\n",
       "  <tbody>\n",
       "    <tr>\n",
       "      <th>0</th>\n",
       "      <td>1.1</td>\n",
       "      <td>39343</td>\n",
       "    </tr>\n",
       "    <tr>\n",
       "      <th>1</th>\n",
       "      <td>1.3</td>\n",
       "      <td>46205</td>\n",
       "    </tr>\n",
       "    <tr>\n",
       "      <th>2</th>\n",
       "      <td>1.5</td>\n",
       "      <td>37731</td>\n",
       "    </tr>\n",
       "    <tr>\n",
       "      <th>3</th>\n",
       "      <td>2.0</td>\n",
       "      <td>43525</td>\n",
       "    </tr>\n",
       "    <tr>\n",
       "      <th>4</th>\n",
       "      <td>2.2</td>\n",
       "      <td>39891</td>\n",
       "    </tr>\n",
       "    <tr>\n",
       "      <th>5</th>\n",
       "      <td>2.9</td>\n",
       "      <td>56642</td>\n",
       "    </tr>\n",
       "    <tr>\n",
       "      <th>6</th>\n",
       "      <td>3.0</td>\n",
       "      <td>60150</td>\n",
       "    </tr>\n",
       "    <tr>\n",
       "      <th>7</th>\n",
       "      <td>3.2</td>\n",
       "      <td>54445</td>\n",
       "    </tr>\n",
       "    <tr>\n",
       "      <th>8</th>\n",
       "      <td>3.2</td>\n",
       "      <td>64445</td>\n",
       "    </tr>\n",
       "    <tr>\n",
       "      <th>9</th>\n",
       "      <td>3.7</td>\n",
       "      <td>57189</td>\n",
       "    </tr>\n",
       "    <tr>\n",
       "      <th>10</th>\n",
       "      <td>3.9</td>\n",
       "      <td>63218</td>\n",
       "    </tr>\n",
       "    <tr>\n",
       "      <th>11</th>\n",
       "      <td>4.0</td>\n",
       "      <td>55794</td>\n",
       "    </tr>\n",
       "    <tr>\n",
       "      <th>12</th>\n",
       "      <td>4.0</td>\n",
       "      <td>56957</td>\n",
       "    </tr>\n",
       "    <tr>\n",
       "      <th>13</th>\n",
       "      <td>4.1</td>\n",
       "      <td>57081</td>\n",
       "    </tr>\n",
       "    <tr>\n",
       "      <th>14</th>\n",
       "      <td>4.5</td>\n",
       "      <td>61111</td>\n",
       "    </tr>\n",
       "    <tr>\n",
       "      <th>15</th>\n",
       "      <td>4.9</td>\n",
       "      <td>67938</td>\n",
       "    </tr>\n",
       "    <tr>\n",
       "      <th>16</th>\n",
       "      <td>5.1</td>\n",
       "      <td>66029</td>\n",
       "    </tr>\n",
       "    <tr>\n",
       "      <th>17</th>\n",
       "      <td>5.3</td>\n",
       "      <td>83088</td>\n",
       "    </tr>\n",
       "    <tr>\n",
       "      <th>18</th>\n",
       "      <td>5.9</td>\n",
       "      <td>81363</td>\n",
       "    </tr>\n",
       "    <tr>\n",
       "      <th>19</th>\n",
       "      <td>6.0</td>\n",
       "      <td>93940</td>\n",
       "    </tr>\n",
       "    <tr>\n",
       "      <th>20</th>\n",
       "      <td>6.8</td>\n",
       "      <td>91738</td>\n",
       "    </tr>\n",
       "    <tr>\n",
       "      <th>21</th>\n",
       "      <td>7.1</td>\n",
       "      <td>98273</td>\n",
       "    </tr>\n",
       "    <tr>\n",
       "      <th>22</th>\n",
       "      <td>7.9</td>\n",
       "      <td>101302</td>\n",
       "    </tr>\n",
       "    <tr>\n",
       "      <th>23</th>\n",
       "      <td>8.2</td>\n",
       "      <td>113812</td>\n",
       "    </tr>\n",
       "    <tr>\n",
       "      <th>24</th>\n",
       "      <td>8.7</td>\n",
       "      <td>109431</td>\n",
       "    </tr>\n",
       "    <tr>\n",
       "      <th>25</th>\n",
       "      <td>9.0</td>\n",
       "      <td>105582</td>\n",
       "    </tr>\n",
       "    <tr>\n",
       "      <th>26</th>\n",
       "      <td>9.5</td>\n",
       "      <td>116969</td>\n",
       "    </tr>\n",
       "    <tr>\n",
       "      <th>27</th>\n",
       "      <td>9.6</td>\n",
       "      <td>112635</td>\n",
       "    </tr>\n",
       "    <tr>\n",
       "      <th>28</th>\n",
       "      <td>10.3</td>\n",
       "      <td>122391</td>\n",
       "    </tr>\n",
       "    <tr>\n",
       "      <th>29</th>\n",
       "      <td>10.5</td>\n",
       "      <td>121872</td>\n",
       "    </tr>\n",
       "    <tr>\n",
       "      <th>30</th>\n",
       "      <td>11.2</td>\n",
       "      <td>127345</td>\n",
       "    </tr>\n",
       "    <tr>\n",
       "      <th>31</th>\n",
       "      <td>11.5</td>\n",
       "      <td>126756</td>\n",
       "    </tr>\n",
       "    <tr>\n",
       "      <th>32</th>\n",
       "      <td>12.3</td>\n",
       "      <td>128765</td>\n",
       "    </tr>\n",
       "    <tr>\n",
       "      <th>33</th>\n",
       "      <td>12.9</td>\n",
       "      <td>135675</td>\n",
       "    </tr>\n",
       "    <tr>\n",
       "      <th>34</th>\n",
       "      <td>13.5</td>\n",
       "      <td>139465</td>\n",
       "    </tr>\n",
       "  </tbody>\n",
       "</table>\n",
       "</div>"
      ],
      "text/plain": [
       "    YearsExperience  Salary\n",
       "0               1.1   39343\n",
       "1               1.3   46205\n",
       "2               1.5   37731\n",
       "3               2.0   43525\n",
       "4               2.2   39891\n",
       "5               2.9   56642\n",
       "6               3.0   60150\n",
       "7               3.2   54445\n",
       "8               3.2   64445\n",
       "9               3.7   57189\n",
       "10              3.9   63218\n",
       "11              4.0   55794\n",
       "12              4.0   56957\n",
       "13              4.1   57081\n",
       "14              4.5   61111\n",
       "15              4.9   67938\n",
       "16              5.1   66029\n",
       "17              5.3   83088\n",
       "18              5.9   81363\n",
       "19              6.0   93940\n",
       "20              6.8   91738\n",
       "21              7.1   98273\n",
       "22              7.9  101302\n",
       "23              8.2  113812\n",
       "24              8.7  109431\n",
       "25              9.0  105582\n",
       "26              9.5  116969\n",
       "27              9.6  112635\n",
       "28             10.3  122391\n",
       "29             10.5  121872\n",
       "30             11.2  127345\n",
       "31             11.5  126756\n",
       "32             12.3  128765\n",
       "33             12.9  135675\n",
       "34             13.5  139465"
      ]
     },
     "execution_count": 3,
     "metadata": {},
     "output_type": "execute_result"
    }
   ],
   "source": [
    "salary_data"
   ]
  },
  {
   "cell_type": "code",
   "execution_count": 4,
   "id": "e0da2950-86e3-4985-b36e-7d1ed01f684e",
   "metadata": {
    "ExecuteTime": {
     "end_time": "2024-10-01T15:04:37.020334Z",
     "start_time": "2024-10-01T15:04:37.013451Z"
    }
   },
   "outputs": [
    {
     "data": {
      "text/plain": [
       "(35, 2)"
      ]
     },
     "execution_count": 4,
     "metadata": {},
     "output_type": "execute_result"
    }
   ],
   "source": [
    "salary_data.shape"
   ]
  },
  {
   "cell_type": "code",
   "execution_count": 5,
   "id": "fe901244-f3a9-4411-91b1-c816297fdaff",
   "metadata": {
    "ExecuteTime": {
     "end_time": "2024-10-01T15:04:38.360557Z",
     "start_time": "2024-10-01T15:04:38.343311Z"
    }
   },
   "outputs": [
    {
     "data": {
      "text/html": [
       "<div>\n",
       "<style scoped>\n",
       "    .dataframe tbody tr th:only-of-type {\n",
       "        vertical-align: middle;\n",
       "    }\n",
       "\n",
       "    .dataframe tbody tr th {\n",
       "        vertical-align: top;\n",
       "    }\n",
       "\n",
       "    .dataframe thead th {\n",
       "        text-align: right;\n",
       "    }\n",
       "</style>\n",
       "<table border=\"1\" class=\"dataframe\">\n",
       "  <thead>\n",
       "    <tr style=\"text-align: right;\">\n",
       "      <th></th>\n",
       "      <th>YearsExperience</th>\n",
       "      <th>Salary</th>\n",
       "    </tr>\n",
       "  </thead>\n",
       "  <tbody>\n",
       "    <tr>\n",
       "      <th>0</th>\n",
       "      <td>1.1</td>\n",
       "      <td>39343</td>\n",
       "    </tr>\n",
       "    <tr>\n",
       "      <th>1</th>\n",
       "      <td>1.3</td>\n",
       "      <td>46205</td>\n",
       "    </tr>\n",
       "    <tr>\n",
       "      <th>2</th>\n",
       "      <td>1.5</td>\n",
       "      <td>37731</td>\n",
       "    </tr>\n",
       "    <tr>\n",
       "      <th>3</th>\n",
       "      <td>2.0</td>\n",
       "      <td>43525</td>\n",
       "    </tr>\n",
       "    <tr>\n",
       "      <th>4</th>\n",
       "      <td>2.2</td>\n",
       "      <td>39891</td>\n",
       "    </tr>\n",
       "  </tbody>\n",
       "</table>\n",
       "</div>"
      ],
      "text/plain": [
       "   YearsExperience  Salary\n",
       "0              1.1   39343\n",
       "1              1.3   46205\n",
       "2              1.5   37731\n",
       "3              2.0   43525\n",
       "4              2.2   39891"
      ]
     },
     "execution_count": 5,
     "metadata": {},
     "output_type": "execute_result"
    }
   ],
   "source": [
    "salary_data.head()"
   ]
  },
  {
   "cell_type": "code",
   "execution_count": 7,
   "id": "bdd3ded9-1982-4785-bd97-851cc76a55f1",
   "metadata": {
    "ExecuteTime": {
     "end_time": "2024-10-01T15:04:39.057946Z",
     "start_time": "2024-10-01T15:04:39.050513Z"
    }
   },
   "outputs": [],
   "source": [
    "# Step 3: Label Split\n",
    "\n",
    "x = salary_data[['YearsExperience']]\n",
    "\n",
    "y = salary_data['Salary']"
   ]
  },
  {
   "cell_type": "code",
   "execution_count": 8,
   "id": "535221b8-e173-4113-903f-41d1b1360b12",
   "metadata": {
    "ExecuteTime": {
     "end_time": "2024-10-01T15:04:39.940910Z",
     "start_time": "2024-10-01T15:04:39.934343Z"
    }
   },
   "outputs": [
    {
     "data": {
      "text/plain": [
       "(35, 1)"
      ]
     },
     "execution_count": 8,
     "metadata": {},
     "output_type": "execute_result"
    }
   ],
   "source": [
    "x.shape"
   ]
  },
  {
   "cell_type": "code",
   "execution_count": 9,
   "id": "c807b719-e758-459f-8091-adef379fbc18",
   "metadata": {
    "ExecuteTime": {
     "end_time": "2024-10-01T15:04:41.045714Z",
     "start_time": "2024-10-01T15:04:41.025297Z"
    }
   },
   "outputs": [
    {
     "data": {
      "text/html": [
       "<div>\n",
       "<style scoped>\n",
       "    .dataframe tbody tr th:only-of-type {\n",
       "        vertical-align: middle;\n",
       "    }\n",
       "\n",
       "    .dataframe tbody tr th {\n",
       "        vertical-align: top;\n",
       "    }\n",
       "\n",
       "    .dataframe thead th {\n",
       "        text-align: right;\n",
       "    }\n",
       "</style>\n",
       "<table border=\"1\" class=\"dataframe\">\n",
       "  <thead>\n",
       "    <tr style=\"text-align: right;\">\n",
       "      <th></th>\n",
       "      <th>YearsExperience</th>\n",
       "    </tr>\n",
       "  </thead>\n",
       "  <tbody>\n",
       "    <tr>\n",
       "      <th>0</th>\n",
       "      <td>1.1</td>\n",
       "    </tr>\n",
       "    <tr>\n",
       "      <th>1</th>\n",
       "      <td>1.3</td>\n",
       "    </tr>\n",
       "    <tr>\n",
       "      <th>2</th>\n",
       "      <td>1.5</td>\n",
       "    </tr>\n",
       "    <tr>\n",
       "      <th>3</th>\n",
       "      <td>2.0</td>\n",
       "    </tr>\n",
       "    <tr>\n",
       "      <th>4</th>\n",
       "      <td>2.2</td>\n",
       "    </tr>\n",
       "  </tbody>\n",
       "</table>\n",
       "</div>"
      ],
      "text/plain": [
       "   YearsExperience\n",
       "0              1.1\n",
       "1              1.3\n",
       "2              1.5\n",
       "3              2.0\n",
       "4              2.2"
      ]
     },
     "execution_count": 9,
     "metadata": {},
     "output_type": "execute_result"
    }
   ],
   "source": [
    "x.head()"
   ]
  },
  {
   "cell_type": "code",
   "execution_count": 10,
   "id": "e59a20c5-d82d-4622-8a1c-0b56d31569f4",
   "metadata": {
    "ExecuteTime": {
     "end_time": "2024-10-01T15:04:41.742282Z",
     "start_time": "2024-10-01T15:04:41.735738Z"
    }
   },
   "outputs": [],
   "source": [
    "# Step 4: Train test split\n",
    "\n",
    "x_train, x_test, y_train, y_test = train_test_split(x, y, test_size=0.2, random_state=2)"
   ]
  },
  {
   "cell_type": "code",
   "execution_count": 11,
   "id": "f00b024d-8ec6-4095-8f1d-f49917c89072",
   "metadata": {
    "ExecuteTime": {
     "end_time": "2024-10-01T15:04:42.797421Z",
     "start_time": "2024-10-01T15:04:42.787611Z"
    }
   },
   "outputs": [
    {
     "data": {
      "text/html": [
       "<div>\n",
       "<style scoped>\n",
       "    .dataframe tbody tr th:only-of-type {\n",
       "        vertical-align: middle;\n",
       "    }\n",
       "\n",
       "    .dataframe tbody tr th {\n",
       "        vertical-align: top;\n",
       "    }\n",
       "\n",
       "    .dataframe thead th {\n",
       "        text-align: right;\n",
       "    }\n",
       "</style>\n",
       "<table border=\"1\" class=\"dataframe\">\n",
       "  <thead>\n",
       "    <tr style=\"text-align: right;\">\n",
       "      <th></th>\n",
       "      <th>YearsExperience</th>\n",
       "    </tr>\n",
       "  </thead>\n",
       "  <tbody>\n",
       "    <tr>\n",
       "      <th>19</th>\n",
       "      <td>6.0</td>\n",
       "    </tr>\n",
       "    <tr>\n",
       "      <th>12</th>\n",
       "      <td>4.0</td>\n",
       "    </tr>\n",
       "    <tr>\n",
       "      <th>1</th>\n",
       "      <td>1.3</td>\n",
       "    </tr>\n",
       "    <tr>\n",
       "      <th>16</th>\n",
       "      <td>5.1</td>\n",
       "    </tr>\n",
       "    <tr>\n",
       "      <th>30</th>\n",
       "      <td>11.2</td>\n",
       "    </tr>\n",
       "  </tbody>\n",
       "</table>\n",
       "</div>"
      ],
      "text/plain": [
       "    YearsExperience\n",
       "19              6.0\n",
       "12              4.0\n",
       "1               1.3\n",
       "16              5.1\n",
       "30             11.2"
      ]
     },
     "execution_count": 11,
     "metadata": {},
     "output_type": "execute_result"
    }
   ],
   "source": [
    "x_train.head()"
   ]
  },
  {
   "cell_type": "code",
   "execution_count": 12,
   "id": "e139ea4b-de7b-4b39-a508-f7dc87d14c1b",
   "metadata": {
    "ExecuteTime": {
     "end_time": "2024-10-01T15:04:43.721080Z",
     "start_time": "2024-10-01T15:04:43.716913Z"
    }
   },
   "outputs": [
    {
     "data": {
      "text/plain": [
       "(28, 1)"
      ]
     },
     "execution_count": 12,
     "metadata": {},
     "output_type": "execute_result"
    }
   ],
   "source": [
    "x_train.shape"
   ]
  },
  {
   "cell_type": "code",
   "execution_count": 13,
   "id": "d99393b0-bc03-430a-9371-ca8cbebd9712",
   "metadata": {
    "ExecuteTime": {
     "end_time": "2024-10-01T15:04:45.126982Z",
     "start_time": "2024-10-01T15:04:45.120985Z"
    }
   },
   "outputs": [
    {
     "data": {
      "text/plain": [
       "(7, 1)"
      ]
     },
     "execution_count": 13,
     "metadata": {},
     "output_type": "execute_result"
    }
   ],
   "source": [
    "x_test.shape"
   ]
  },
  {
   "cell_type": "code",
   "execution_count": 14,
   "id": "2c334a83-be45-4328-9534-334155f7e88a",
   "metadata": {
    "ExecuteTime": {
     "end_time": "2024-10-01T15:04:46.005579Z",
     "start_time": "2024-10-01T15:04:45.995524Z"
    }
   },
   "outputs": [
    {
     "data": {
      "text/html": [
       "<div>\n",
       "<style scoped>\n",
       "    .dataframe tbody tr th:only-of-type {\n",
       "        vertical-align: middle;\n",
       "    }\n",
       "\n",
       "    .dataframe tbody tr th {\n",
       "        vertical-align: top;\n",
       "    }\n",
       "\n",
       "    .dataframe thead th {\n",
       "        text-align: right;\n",
       "    }\n",
       "</style>\n",
       "<table border=\"1\" class=\"dataframe\">\n",
       "  <thead>\n",
       "    <tr style=\"text-align: right;\">\n",
       "      <th></th>\n",
       "      <th>YearsExperience</th>\n",
       "    </tr>\n",
       "  </thead>\n",
       "  <tbody>\n",
       "    <tr>\n",
       "      <th>19</th>\n",
       "      <td>6.0</td>\n",
       "    </tr>\n",
       "    <tr>\n",
       "      <th>12</th>\n",
       "      <td>4.0</td>\n",
       "    </tr>\n",
       "    <tr>\n",
       "      <th>1</th>\n",
       "      <td>1.3</td>\n",
       "    </tr>\n",
       "    <tr>\n",
       "      <th>16</th>\n",
       "      <td>5.1</td>\n",
       "    </tr>\n",
       "    <tr>\n",
       "      <th>30</th>\n",
       "      <td>11.2</td>\n",
       "    </tr>\n",
       "  </tbody>\n",
       "</table>\n",
       "</div>"
      ],
      "text/plain": [
       "    YearsExperience\n",
       "19              6.0\n",
       "12              4.0\n",
       "1               1.3\n",
       "16              5.1\n",
       "30             11.2"
      ]
     },
     "execution_count": 14,
     "metadata": {},
     "output_type": "execute_result"
    }
   ],
   "source": [
    "x_train.head()"
   ]
  },
  {
   "cell_type": "code",
   "execution_count": 15,
   "id": "ecac21a3-08b3-4b18-a7e1-9ca5b87a621d",
   "metadata": {
    "ExecuteTime": {
     "end_time": "2024-10-01T15:04:46.658194Z",
     "start_time": "2024-10-01T15:04:46.650070Z"
    }
   },
   "outputs": [
    {
     "data": {
      "text/html": [
       "<div>\n",
       "<style scoped>\n",
       "    .dataframe tbody tr th:only-of-type {\n",
       "        vertical-align: middle;\n",
       "    }\n",
       "\n",
       "    .dataframe tbody tr th {\n",
       "        vertical-align: top;\n",
       "    }\n",
       "\n",
       "    .dataframe thead th {\n",
       "        text-align: right;\n",
       "    }\n",
       "</style>\n",
       "<table border=\"1\" class=\"dataframe\">\n",
       "  <thead>\n",
       "    <tr style=\"text-align: right;\">\n",
       "      <th></th>\n",
       "      <th>YearsExperience</th>\n",
       "    </tr>\n",
       "  </thead>\n",
       "  <tbody>\n",
       "    <tr>\n",
       "      <th>13</th>\n",
       "      <td>4.1</td>\n",
       "    </tr>\n",
       "    <tr>\n",
       "      <th>14</th>\n",
       "      <td>4.5</td>\n",
       "    </tr>\n",
       "    <tr>\n",
       "      <th>26</th>\n",
       "      <td>9.5</td>\n",
       "    </tr>\n",
       "    <tr>\n",
       "      <th>9</th>\n",
       "      <td>3.7</td>\n",
       "    </tr>\n",
       "    <tr>\n",
       "      <th>28</th>\n",
       "      <td>10.3</td>\n",
       "    </tr>\n",
       "  </tbody>\n",
       "</table>\n",
       "</div>"
      ],
      "text/plain": [
       "    YearsExperience\n",
       "13              4.1\n",
       "14              4.5\n",
       "26              9.5\n",
       "9               3.7\n",
       "28             10.3"
      ]
     },
     "execution_count": 15,
     "metadata": {},
     "output_type": "execute_result"
    }
   ],
   "source": [
    "x_test.head()"
   ]
  },
  {
   "cell_type": "code",
   "execution_count": 16,
   "id": "c06c0d09-8e84-4fd3-bc5d-a964d0cf7ae1",
   "metadata": {
    "ExecuteTime": {
     "end_time": "2024-10-01T15:04:47.547012Z",
     "start_time": "2024-10-01T15:04:47.542109Z"
    }
   },
   "outputs": [
    {
     "data": {
      "text/plain": [
       "(28,)"
      ]
     },
     "execution_count": 16,
     "metadata": {},
     "output_type": "execute_result"
    }
   ],
   "source": [
    "y_train.shape"
   ]
  },
  {
   "cell_type": "code",
   "execution_count": 17,
   "id": "eba5098d-cb37-4a66-a814-4522511edf98",
   "metadata": {
    "ExecuteTime": {
     "end_time": "2024-10-01T15:04:48.528327Z",
     "start_time": "2024-10-01T15:04:48.521994Z"
    }
   },
   "outputs": [
    {
     "data": {
      "text/plain": [
       "19     93940\n",
       "12     56957\n",
       "1      46205\n",
       "16     66029\n",
       "30    127345\n",
       "Name: Salary, dtype: int64"
      ]
     },
     "execution_count": 17,
     "metadata": {},
     "output_type": "execute_result"
    }
   ],
   "source": [
    "y_train.head()"
   ]
  },
  {
   "cell_type": "code",
   "execution_count": 18,
   "id": "6f120c80-7429-418f-be6a-f291152c6db1",
   "metadata": {
    "ExecuteTime": {
     "end_time": "2024-10-01T15:04:49.127398Z",
     "start_time": "2024-10-01T15:04:49.121120Z"
    }
   },
   "outputs": [
    {
     "data": {
      "text/plain": [
       "(7,)"
      ]
     },
     "execution_count": 18,
     "metadata": {},
     "output_type": "execute_result"
    }
   ],
   "source": [
    "y_test.shape"
   ]
  },
  {
   "cell_type": "code",
   "execution_count": 19,
   "id": "7f3383f0-ba04-4a5b-b43b-f9c54abfc6e5",
   "metadata": {
    "ExecuteTime": {
     "end_time": "2024-10-01T15:04:50.214672Z",
     "start_time": "2024-10-01T15:04:50.206945Z"
    }
   },
   "outputs": [
    {
     "data": {
      "text/plain": [
       "13     57081\n",
       "14     61111\n",
       "26    116969\n",
       "9      57189\n",
       "28    122391\n",
       "Name: Salary, dtype: int64"
      ]
     },
     "execution_count": 19,
     "metadata": {},
     "output_type": "execute_result"
    }
   ],
   "source": [
    "y_test.head()"
   ]
  },
  {
   "cell_type": "code",
   "execution_count": 19,
   "id": "42e88531-266c-4ec8-8e5d-809cfac6ea55",
   "metadata": {
    "ExecuteTime": {
     "end_time": "2024-10-01T15:04:50.926672Z",
     "start_time": "2024-10-01T15:04:50.921154Z"
    }
   },
   "outputs": [],
   "source": [
    "# Step 5: Ensure X_train and X_test are DataFrames and if not then we convert them from 1D series to 2D dataframe\n",
    "if isinstance(x_train, pd.Series):\n",
    "   x_train = x_train.to_frame()\n",
    "   \n",
    "if isinstance(x_test, pd.Series):\n",
    "   x_test = x_test.to_frame()\n"
   ]
  },
  {
   "cell_type": "code",
   "execution_count": 20,
   "id": "a0073d94-1558-457c-aa31-fa260735f65a",
   "metadata": {
    "ExecuteTime": {
     "end_time": "2024-10-01T15:04:51.833598Z",
     "start_time": "2024-10-01T15:04:51.826319Z"
    }
   },
   "outputs": [
    {
     "data": {
      "text/plain": [
       "(28, 1)"
      ]
     },
     "execution_count": 20,
     "metadata": {},
     "output_type": "execute_result"
    }
   ],
   "source": [
    "x_train.shape"
   ]
  },
  {
   "cell_type": "code",
   "execution_count": 21,
   "id": "ee142dfe-bbf4-4433-9837-ae5fc91fb651",
   "metadata": {
    "ExecuteTime": {
     "end_time": "2024-10-01T15:04:52.866043Z",
     "start_time": "2024-10-01T15:04:52.854741Z"
    }
   },
   "outputs": [
    {
     "data": {
      "text/html": [
       "<div>\n",
       "<style scoped>\n",
       "    .dataframe tbody tr th:only-of-type {\n",
       "        vertical-align: middle;\n",
       "    }\n",
       "\n",
       "    .dataframe tbody tr th {\n",
       "        vertical-align: top;\n",
       "    }\n",
       "\n",
       "    .dataframe thead th {\n",
       "        text-align: right;\n",
       "    }\n",
       "</style>\n",
       "<table border=\"1\" class=\"dataframe\">\n",
       "  <thead>\n",
       "    <tr style=\"text-align: right;\">\n",
       "      <th></th>\n",
       "      <th>YearsExperience</th>\n",
       "    </tr>\n",
       "  </thead>\n",
       "  <tbody>\n",
       "    <tr>\n",
       "      <th>19</th>\n",
       "      <td>6.0</td>\n",
       "    </tr>\n",
       "    <tr>\n",
       "      <th>12</th>\n",
       "      <td>4.0</td>\n",
       "    </tr>\n",
       "    <tr>\n",
       "      <th>1</th>\n",
       "      <td>1.3</td>\n",
       "    </tr>\n",
       "    <tr>\n",
       "      <th>16</th>\n",
       "      <td>5.1</td>\n",
       "    </tr>\n",
       "    <tr>\n",
       "      <th>30</th>\n",
       "      <td>11.2</td>\n",
       "    </tr>\n",
       "    <tr>\n",
       "      <th>25</th>\n",
       "      <td>9.0</td>\n",
       "    </tr>\n",
       "    <tr>\n",
       "      <th>24</th>\n",
       "      <td>8.7</td>\n",
       "    </tr>\n",
       "    <tr>\n",
       "      <th>10</th>\n",
       "      <td>3.9</td>\n",
       "    </tr>\n",
       "    <tr>\n",
       "      <th>4</th>\n",
       "      <td>2.2</td>\n",
       "    </tr>\n",
       "    <tr>\n",
       "      <th>6</th>\n",
       "      <td>3.0</td>\n",
       "    </tr>\n",
       "    <tr>\n",
       "      <th>3</th>\n",
       "      <td>2.0</td>\n",
       "    </tr>\n",
       "    <tr>\n",
       "      <th>27</th>\n",
       "      <td>9.6</td>\n",
       "    </tr>\n",
       "    <tr>\n",
       "      <th>5</th>\n",
       "      <td>2.9</td>\n",
       "    </tr>\n",
       "    <tr>\n",
       "      <th>23</th>\n",
       "      <td>8.2</td>\n",
       "    </tr>\n",
       "    <tr>\n",
       "      <th>20</th>\n",
       "      <td>6.8</td>\n",
       "    </tr>\n",
       "    <tr>\n",
       "      <th>34</th>\n",
       "      <td>13.5</td>\n",
       "    </tr>\n",
       "    <tr>\n",
       "      <th>21</th>\n",
       "      <td>7.1</td>\n",
       "    </tr>\n",
       "    <tr>\n",
       "      <th>29</th>\n",
       "      <td>10.5</td>\n",
       "    </tr>\n",
       "    <tr>\n",
       "      <th>17</th>\n",
       "      <td>5.3</td>\n",
       "    </tr>\n",
       "    <tr>\n",
       "      <th>2</th>\n",
       "      <td>1.5</td>\n",
       "    </tr>\n",
       "    <tr>\n",
       "      <th>7</th>\n",
       "      <td>3.2</td>\n",
       "    </tr>\n",
       "    <tr>\n",
       "      <th>33</th>\n",
       "      <td>12.9</td>\n",
       "    </tr>\n",
       "    <tr>\n",
       "      <th>31</th>\n",
       "      <td>11.5</td>\n",
       "    </tr>\n",
       "    <tr>\n",
       "      <th>18</th>\n",
       "      <td>5.9</td>\n",
       "    </tr>\n",
       "    <tr>\n",
       "      <th>11</th>\n",
       "      <td>4.0</td>\n",
       "    </tr>\n",
       "    <tr>\n",
       "      <th>22</th>\n",
       "      <td>7.9</td>\n",
       "    </tr>\n",
       "    <tr>\n",
       "      <th>8</th>\n",
       "      <td>3.2</td>\n",
       "    </tr>\n",
       "    <tr>\n",
       "      <th>15</th>\n",
       "      <td>4.9</td>\n",
       "    </tr>\n",
       "  </tbody>\n",
       "</table>\n",
       "</div>"
      ],
      "text/plain": [
       "    YearsExperience\n",
       "19              6.0\n",
       "12              4.0\n",
       "1               1.3\n",
       "16              5.1\n",
       "30             11.2\n",
       "25              9.0\n",
       "24              8.7\n",
       "10              3.9\n",
       "4               2.2\n",
       "6               3.0\n",
       "3               2.0\n",
       "27              9.6\n",
       "5               2.9\n",
       "23              8.2\n",
       "20              6.8\n",
       "34             13.5\n",
       "21              7.1\n",
       "29             10.5\n",
       "17              5.3\n",
       "2               1.5\n",
       "7               3.2\n",
       "33             12.9\n",
       "31             11.5\n",
       "18              5.9\n",
       "11              4.0\n",
       "22              7.9\n",
       "8               3.2\n",
       "15              4.9"
      ]
     },
     "execution_count": 21,
     "metadata": {},
     "output_type": "execute_result"
    }
   ],
   "source": [
    "x_train"
   ]
  },
  {
   "cell_type": "code",
   "execution_count": 22,
   "id": "fcf20846-1253-41d1-a601-2100b1f1884c",
   "metadata": {
    "ExecuteTime": {
     "end_time": "2024-10-01T15:04:53.543705Z",
     "start_time": "2024-10-01T15:04:53.538655Z"
    }
   },
   "outputs": [],
   "source": [
    "# Step 6: Loading model and creating its instance\n",
    "linear_regression_model=LinearRegression()"
   ]
  },
  {
   "cell_type": "code",
   "execution_count": 23,
   "id": "7d50c453-83e6-4037-9a57-65fd398063ab",
   "metadata": {
    "ExecuteTime": {
     "end_time": "2024-10-01T15:04:54.559078Z",
     "start_time": "2024-10-01T15:04:54.547928Z"
    }
   },
   "outputs": [],
   "source": [
    "# Step 7: Loading model instance and training it on out training data\n",
    "trained_linear_regression=linear_regression_model.fit(x_train, y_train)"
   ]
  },
  {
   "cell_type": "code",
   "execution_count": 24,
   "id": "b94a7dc6-eba5-4428-b1f5-4c0b7e60595d",
   "metadata": {
    "ExecuteTime": {
     "end_time": "2024-10-01T15:04:55.305106Z",
     "start_time": "2024-10-01T15:04:55.298867Z"
    }
   },
   "outputs": [],
   "source": [
    "# Step 8: Testing the trained model\n",
    "y_predict=trained_linear_regression.predict(x_test)"
   ]
  },
  {
   "cell_type": "code",
   "execution_count": 25,
   "id": "f18681a2-7701-4fdb-99c1-964e33b54a35",
   "metadata": {
    "ExecuteTime": {
     "end_time": "2024-10-01T15:04:55.987254Z",
     "start_time": "2024-10-01T15:04:55.981853Z"
    }
   },
   "outputs": [
    {
     "name": "stdout",
     "output_type": "stream",
     "text": [
      "(7,) (7,)\n"
     ]
    }
   ],
   "source": [
    "print(y_test.shape, y_predict.shape)"
   ]
  },
  {
   "cell_type": "code",
   "execution_count": 26,
   "id": "d8a00e2f-5679-4de5-be9f-641cf0a9f41d",
   "metadata": {
    "ExecuteTime": {
     "end_time": "2024-10-01T15:04:56.757749Z",
     "start_time": "2024-10-01T15:04:56.751987Z"
    }
   },
   "outputs": [
    {
     "data": {
      "text/plain": [
       "array([ 65377.76384262,  68846.65384201, 112207.77883428,  61908.87384324,\n",
       "       119145.55883305, 136490.00882996,  39361.08884726])"
      ]
     },
     "execution_count": 26,
     "metadata": {},
     "output_type": "execute_result"
    }
   ],
   "source": [
    "y_predict"
   ]
  },
  {
   "cell_type": "code",
   "execution_count": 27,
   "id": "e7b7c049-0f9d-4c4f-bbbe-de9a60bf9eb5",
   "metadata": {},
   "outputs": [
    {
     "data": {
      "text/plain": [
       "13     57081\n",
       "14     61111\n",
       "26    116969\n",
       "9      57189\n",
       "28    122391\n",
       "32    128765\n",
       "0      39343\n",
       "Name: Salary, dtype: int64"
      ]
     },
     "execution_count": 27,
     "metadata": {},
     "output_type": "execute_result"
    }
   ],
   "source": [
    "y_test"
   ]
  },
  {
   "cell_type": "code",
   "execution_count": 27,
   "id": "e06e1915-b149-47e1-b33f-73721314a232",
   "metadata": {
    "ExecuteTime": {
     "end_time": "2024-10-01T15:04:57.512334Z",
     "start_time": "2024-10-01T15:04:57.493422Z"
    }
   },
   "outputs": [
    {
     "data": {
      "text/plain": [
       "'\\n    Calculate the Root Mean Squared Error (RMSE).\\n\\n    RMSE is a measure of the differences between predicted and actual values.\\n    It is the square root of the average of squared differences.\\n\\n    Formula:\\n        RMSE = sqrt((1/n) * Σ(y_true - y_pred)^2)\\n\\n    Parameters:\\n        y_true (array-like): Actual values.\\n        y_pred (array-like): Predicted values.\\n\\n    Returns:\\n        float: The RMSE value.\\n\\n    Interpretation:\\n        Lower RMSE values indicate better model performance, as they represent\\n        smaller discrepancies between predicted and actual values.\\n'"
      ]
     },
     "execution_count": 27,
     "metadata": {},
     "output_type": "execute_result"
    }
   ],
   "source": [
    "# Step 9: Evaluate the model performance using appropriate metrics\n",
    "mse = mean_squared_error(y_test, y_predict)\n",
    "\"\"\"\n",
    "    Calculates the mean squared error between true and predicted values.\n",
    "    \n",
    "    MSE = (1/n) * Σ(y_true - y_pred)^2\n",
    "    \n",
    "    where:\n",
    "    - Σ is the sum operator\n",
    "    - n is the number of samples\n",
    "    - y_true are the true target values\n",
    "    - y_pred are the predicted values\n",
    "    \n",
    "    MSE is a risk function that measures the average squared difference between the estimated values and the actual value. It incorporates both the variance of the estimator and its bias. For an unbiased estimator, the MSE is the variance of the estimator.\n",
    "    \n",
    "    A lower MSE indicates better model performance, with a perfect model having an MSE of 0.\n",
    "\"\"\"\n",
    "\n",
    "mae = mean_absolute_error(y_test, y_predict)\n",
    "\"\"\"\n",
    "    Calculates the mean absolute error between true and predicted values.\n",
    "    \n",
    "    MAE = (1/n) * Σ|y_true - y_pred|\n",
    "    \n",
    "    where:\n",
    "    - Σ is the sum operator\n",
    "    - n is the number of samples\n",
    "    - y_true are the true target values\n",
    "    - y_pred are the predicted values\n",
    "    \n",
    "    MAE measures the average absolute difference between the true and predicted values. It is less sensitive to outliers compared to MSE since it does not square the differences.\n",
    "    \n",
    "    A lower MAE indicates better model performance, with a perfect model having an MAE of 0.\n",
    "\"\"\"\n",
    "\n",
    "r2 = r2_score(y_test, y_predict)\n",
    "\"\"\"\n",
    "    Calculates the coefficient of determination (R-squared) between true and predicted values.\n",
    "    \n",
    "    R² = 1 - (Σ(y_true - y_pred)^2 / Σ(y_true - y_mean)^2)\n",
    "    \n",
    "    where:\n",
    "    - Σ is the sum operator\n",
    "    - y_true are the true target values\n",
    "    - y_pred are the predicted values\n",
    "    - y_mean is the mean of the true values\n",
    "    \n",
    "    R-squared represents the proportion of the variance in the dependent variable that is predictable from the independent variable(s). It provides an indication of goodness of fit, with R² = 1 indicating that the regression line perfectly fits the data.\n",
    "    \n",
    "    R-squared values range from 0 to 1, with higher values indicating better model performance.\n",
    "\"\"\"\n",
    "\n",
    "rmse = np.sqrt(mean_squared_error(y_test, y_predict))\n",
    "\"\"\"\n",
    "    Calculate the Root Mean Squared Error (RMSE).\n",
    "\n",
    "    RMSE is a measure of the differences between predicted and actual values.\n",
    "    It is the square root of the average of squared differences.\n",
    "\n",
    "    Formula:\n",
    "        RMSE = sqrt((1/n) * Σ(y_true - y_pred)^2)\n",
    "\n",
    "    Parameters:\n",
    "        y_true (array-like): Actual values.\n",
    "        y_pred (array-like): Predicted values.\n",
    "\n",
    "    Returns:\n",
    "        float: The RMSE value.\n",
    "\n",
    "    Interpretation:\n",
    "        Lower RMSE values indicate better model performance, as they represent\n",
    "        smaller discrepancies between predicted and actual values.\n",
    "\"\"\"\n"
   ]
  },
  {
   "cell_type": "code",
   "execution_count": 28,
   "id": "bcc0ec6e-b8fd-46cc-8c19-bdca1270082e",
   "metadata": {
    "ExecuteTime": {
     "end_time": "2024-10-01T15:04:58.285954Z",
     "start_time": "2024-10-01T15:04:58.281149Z"
    }
   },
   "outputs": [
    {
     "name": "stdout",
     "output_type": "stream",
     "text": [
      " Mean Squared Error is:  34833149.100864425\n",
      " Mean abasolute Error is:  5214.578791107869\n",
      " r2 Score is:  0.9713897949584879\n",
      " Root Mean Squared Error is:  5901.961462163611\n"
     ]
    }
   ],
   "source": [
    "print(\" Mean Squared Error is: \", mse)\n",
    "\n",
    "print(\" Mean abasolute Error is: \", mae)\n",
    "\n",
    "print(\" r2 Score is: \", r2)\n",
    "\n",
    "print( \" Root Mean Squared Error is: \", rmse)"
   ]
  },
  {
   "cell_type": "code",
   "execution_count": 29,
   "id": "28205160-117b-4e1e-bda8-4b44150d00b5",
   "metadata": {
    "ExecuteTime": {
     "end_time": "2024-10-01T15:04:59.495490Z",
     "start_time": "2024-10-01T15:04:59.008106Z"
    }
   },
   "outputs": [
    {
     "data": {
      "image/png": "[encoded data removed]",
      "text/plain": [
       "<Figure size 800x500 with 1 Axes>"
      ]
     },
     "metadata": {},
     "output_type": "display_data"
    }
   ],
   "source": [
    "# Visualize MSE using Seaborn regplot\n",
    "plt.figure(figsize=(8, 5))\n",
    "sns.regplot(x=x_test['YearsExperience'], y=y_test, scatter=True, color='blue', line_kws={'color': 'red'})\n",
    "plt.title(f'Mean Squared Error Visualization\\nMSE = {mse:.2f}')\n",
    "plt.xlabel('Years of Experience')\n",
    "plt.ylabel('Salary')\n",
    "plt.legend(['Actual Data', 'Regression Line'])\n",
    "plt.show()"
   ]
  },
  {
   "cell_type": "code",
   "execution_count": 30,
   "id": "84c40f5d-bda1-4221-965e-0a1edcfa2015",
   "metadata": {
    "ExecuteTime": {
     "end_time": "2024-10-01T15:05:00.068469Z",
     "start_time": "2024-10-01T15:04:59.753429Z"
    }
   },
   "outputs": [
    {
     "data": {
      "image/png": "[encoded data removed]",
      "text/plain": [
       "<Figure size 800x500 with 1 Axes>"
      ]
     },
     "metadata": {},
     "output_type": "display_data"
    }
   ],
   "source": [
    "# Visualise Mean Absolute Error using Seaborn regplot\n",
    "plt.figure(figsize=(8, 5))\n",
    "sns.regplot(x=x_test['YearsExperience'], y=y_test, scatter=True, color='blue', line_kws={'color': 'red'})\n",
    "for i in range(len(y_test)):\n",
    "    plt.plot([x_test.iloc[i]['YearsExperience'], x_test.iloc[i]['YearsExperience']], [y_test.iloc[i], y_predict[i]], color='grey', linestyle='--')\n",
    "plt.title(f'Mean Absolute Error Calculation\\nMAE = {mae:.2f}')\n",
    "plt.xlabel('Years of Experience')\n",
    "plt.ylabel('Salary')\n",
    "plt.legend(['Actual Data', 'Regression Line'])\n",
    "plt.show()"
   ]
  },
  {
   "cell_type": "code",
   "execution_count": 31,
   "id": "a3854cf3-943d-4669-a8cb-132c05df71a7",
   "metadata": {
    "ExecuteTime": {
     "end_time": "2024-10-01T15:05:01.018907Z",
     "start_time": "2024-10-01T15:05:00.745084Z"
    }
   },
   "outputs": [
    {
     "data": {
      "image/png": "[encoded data removed]",
      "text/plain": [
       "<Figure size 800x500 with 1 Axes>"
      ]
     },
     "metadata": {},
     "output_type": "display_data"
    }
   ],
   "source": [
    "# Visualize R² Score using Seaborn regplot\n",
    "plt.figure(figsize=(8, 5))\n",
    "sns.regplot(x=x_test['YearsExperience'], y=y_test, scatter=True, color='blue', line_kws={'color': 'red'})\n",
    "plt.title(f'R² Score Visualization\\nR² = {r2:.2f}')\n",
    "plt.xlabel('Years of Experience')\n",
    "plt.ylabel('Salary')\n",
    "plt.legend(['Actual Data', 'Regression Line'])\n",
    "plt.show()"
   ]
  },
  {
   "cell_type": "code",
   "execution_count": 32,
   "id": "794b9f0e-12f4-4883-9e45-3b4a732f656b",
   "metadata": {
    "ExecuteTime": {
     "end_time": "2024-10-01T15:05:01.978351Z",
     "start_time": "2024-10-01T15:05:01.696407Z"
    }
   },
   "outputs": [
    {
     "data": {
      "image/png": "[encoded data removed]",
      "text/plain": [
       "<Figure size 800x500 with 1 Axes>"
      ]
     },
     "metadata": {},
     "output_type": "display_data"
    }
   ],
   "source": [
    "# Visualise Root Mean Squared Error using seaborn regplot\n",
    "plt.figure(figsize=(8, 5))\n",
    "sns.regplot(x=x_test['YearsExperience'], y=y_test, scatter=True, color='blue', line_kws={'color': 'red'})\n",
    "plt.title(f'Root Mean Squared Error Visualization\\nRMSE = {rmse:.2f}')\n",
    "plt.xlabel('Years of Experience')\n",
    "plt.ylabel('Salary')\n",
    "plt.legend(['Actual Data', 'Regression Line'])\n",
    "plt.show()"
   ]
  },
  {
   "cell_type": "code",
   "execution_count": 33,
   "id": "d2fa96c6-6637-430d-98c2-1fce8bc31e58",
   "metadata": {
    "ExecuteTime": {
     "end_time": "2024-10-01T15:05:02.708727Z",
     "start_time": "2024-10-01T15:05:02.691386Z"
    }
   },
   "outputs": [
    {
     "name": "stdout",
     "output_type": "stream",
     "text": [
      "Accuracy: 0.97\n"
     ]
    }
   ],
   "source": [
    "# Calculate accuracy and it is same as r2 sore\n",
    "accuracy = linear_regression_model.score(x_test, y_test)\n",
    "print(f'Accuracy: {accuracy:.2f}')"
   ]
  },
  {
   "cell_type": "code",
   "execution_count": 34,
   "id": "f43785d3-9a37-441c-a403-85c65bf09ed6",
   "metadata": {
    "ExecuteTime": {
     "end_time": "2024-10-01T15:05:04.088710Z",
     "start_time": "2024-10-01T15:05:03.792449Z"
    }
   },
   "outputs": [
    {
     "data": {
      "image/png": "[encoded data removed]",
      "text/plain": [
       "<Figure size 600x400 with 1 Axes>"
      ]
     },
     "metadata": {},
     "output_type": "display_data"
    }
   ],
   "source": [
    "# Step 10: Visualize the results using Seaborn\n",
    "plt.figure(figsize=(6, 4))\n",
    "sns.scatterplot(x=x_test['YearsExperience'], y=y_test, color='blue', label='Actual Salary')\n",
    "sns.lineplot(x=x_test['YearsExperience'], y=y_predict, color='red', label='Predicted Salary', linewidth=2)\n",
    "plt.xlabel('Years of Experience')\n",
    "plt.ylabel('Salary')\n",
    "plt.title('Actual vs Predicted Salary using Seaborn')\n",
    "plt.legend()\n",
    "plt.show()"
   ]
  },
  {
   "cell_type": "code",
   "execution_count": 35,
   "id": "fb9ad278-95f5-4e24-a36a-5e99dcbddb2e",
   "metadata": {
    "ExecuteTime": {
     "end_time": "2024-10-01T15:05:04.992750Z",
     "start_time": "2024-10-01T15:05:04.750530Z"
    }
   },
   "outputs": [
    {
     "data": {
      "image/png": "[encoded data removed]",
      "text/plain": [
       "<Figure size 640x480 with 1 Axes>"
      ]
     },
     "metadata": {},
     "output_type": "display_data"
    }
   ],
   "source": [
    "# Alternate Plotting via Matplotlib.library\n",
    "# Step 10: Visualize the results\n",
    "plt.scatter(x_test, y_test, color='blue', label='Actual Salary')\n",
    "plt.plot(x_test, y_predict, color='red', linewidth=2, label='Predicted Salary')\n",
    "plt.xlabel('Years of Experience')\n",
    "plt.ylabel('Salary')\n",
    "plt.title('Actual vs Predicted Salary')\n",
    "plt.legend()\n",
    "plt.show()"
   ]
  },
  {
   "cell_type": "code",
   "execution_count": 42,
   "id": "cd22868b-9529-4e05-9a69-ec6940f863c6",
   "metadata": {
    "ExecuteTime": {
     "end_time": "2024-10-01T15:05:16.957406Z",
     "start_time": "2024-10-01T15:05:05.955227Z"
    }
   },
   "outputs": [
    {
     "name": "stdin",
     "output_type": "stream",
     "text": [
      "Enter years of experience to predict salary:  7.3\n"
     ]
    },
    {
     "name": "stdout",
     "output_type": "stream",
     "text": [
      "Predicted Salary for 7.3 years of experience: ₹93129.00\n",
      "93129.0\n"
     ]
    }
   ],
   "source": [
    "def predict_salary(years):\n",
    "    # Reshape input for prediction (needs to be a 2D array)\n",
    "    #years_reshaped = np.array([[years]])\n",
    "    years_reshaped = pd.DataFrame({'YearsExperience':[years]})\n",
    "    years_reshaped = years_reshaped['YearsExperience'].to_frame()\n",
    "    predicted_salary = linear_regression_model.predict(years_reshaped)\n",
    "    return np.round(predicted_salary[0])\n",
    "    #return predicted_salary[0]\n",
    "\n",
    "# Example usage:\n",
    "custom_years = float(input(\"Enter years of experience to predict salary: \"))\n",
    "predicted_salary = predict_salary(custom_years)\n",
    "print(f'Predicted Salary for {custom_years} years of experience: ₹{predicted_salary:.2f}')\n",
    "print(predicted_salary)"
   ]
  },
  {
   "cell_type": "code",
   "execution_count": null,
   "id": "d82b7544-f354-468d-b17d-25409b690201",
   "metadata": {},
   "outputs": [],
   "source": []
  }
 ],
 "metadata": {
  "kernelspec": {
   "display_name": "Python 3 (ipykernel)",
   "language": "python",
   "name": "python3"
  },
  "language_info": {
   "codemirror_mode": {
    "name": "ipython",
    "version": 3
   },
   "file_extension": ".py",
   "mimetype": "text/x-python",
   "name": "python",
   "nbconvert_exporter": "python",
   "pygments_lexer": "ipython3",
   "version": "3.10.14"
  }
 },
 "nbformat": 4,
 "nbformat_minor": 5
}
