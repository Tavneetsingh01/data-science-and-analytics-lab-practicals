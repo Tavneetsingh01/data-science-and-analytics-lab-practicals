{
 "cells": [
  {
   "cell_type": "code",
   "execution_count": 1,
   "id": "1e3851c1-0d24-438e-a2ea-a344a7b1e4f8",
   "metadata": {},
   "outputs": [],
   "source": [
    "#Step 1: Importing Required Libraries\n",
    "import numpy as np\n",
    "import pandas as pd\n",
    "from gensim.models import Word2Vec, FastText\n",
    "from sklearn.feature_extraction.text import CountVectorizer, TfidfVectorizer\n",
    "from sklearn.linear_model import LogisticRegression\n",
    "from sklearn.model_selection import train_test_split\n",
    "from sklearn.metrics import classification_report, confusion_matrix, ConfusionMatrixDisplay, accuracy_score\n",
    "# here we can aslo just import the above as `from sklearn import metrics` which import the whole metrics module \n",
    "# with all its functions instead of its specific functions\n",
    "import matplotlib.pyplot as plt\n",
    "import seaborn as sns\n",
    "import warnings\n",
    "warnings.filterwarnings(action='ignore')"
   ]
  },
  {
   "cell_type": "code",
   "execution_count": 2,
   "id": "34486565-d83c-4481-b829-df0ad2f6511d",
   "metadata": {},
   "outputs": [
    {
     "data": {
      "text/html": [
       "<div>\n",
       "<style scoped>\n",
       "    .dataframe tbody tr th:only-of-type {\n",
       "        vertical-align: middle;\n",
       "    }\n",
       "\n",
       "    .dataframe tbody tr th {\n",
       "        vertical-align: top;\n",
       "    }\n",
       "\n",
       "    .dataframe thead th {\n",
       "        text-align: right;\n",
       "    }\n",
       "</style>\n",
       "<table border=\"1\" class=\"dataframe\">\n",
       "  <thead>\n",
       "    <tr style=\"text-align: right;\">\n",
       "      <th></th>\n",
       "      <th>idx</th>\n",
       "      <th>sentence</th>\n",
       "      <th>label</th>\n",
       "    </tr>\n",
       "  </thead>\n",
       "  <tbody>\n",
       "    <tr>\n",
       "      <th>0</th>\n",
       "      <td>0</td>\n",
       "      <td>hide new secretions from the parental units</td>\n",
       "      <td>0</td>\n",
       "    </tr>\n",
       "    <tr>\n",
       "      <th>1</th>\n",
       "      <td>1</td>\n",
       "      <td>contains no wit , only labored gags</td>\n",
       "      <td>0</td>\n",
       "    </tr>\n",
       "    <tr>\n",
       "      <th>2</th>\n",
       "      <td>2</td>\n",
       "      <td>that loves its characters and communicates som...</td>\n",
       "      <td>1</td>\n",
       "    </tr>\n",
       "    <tr>\n",
       "      <th>3</th>\n",
       "      <td>3</td>\n",
       "      <td>remains utterly satisfied to remain the same t...</td>\n",
       "      <td>0</td>\n",
       "    </tr>\n",
       "    <tr>\n",
       "      <th>4</th>\n",
       "      <td>4</td>\n",
       "      <td>on the worst revenge-of-the-nerds clichés the ...</td>\n",
       "      <td>0</td>\n",
       "    </tr>\n",
       "    <tr>\n",
       "      <th>...</th>\n",
       "      <td>...</td>\n",
       "      <td>...</td>\n",
       "      <td>...</td>\n",
       "    </tr>\n",
       "    <tr>\n",
       "      <th>67344</th>\n",
       "      <td>67344</td>\n",
       "      <td>a delightful comedy</td>\n",
       "      <td>1</td>\n",
       "    </tr>\n",
       "    <tr>\n",
       "      <th>67345</th>\n",
       "      <td>67345</td>\n",
       "      <td>anguish , anger and frustration</td>\n",
       "      <td>0</td>\n",
       "    </tr>\n",
       "    <tr>\n",
       "      <th>67346</th>\n",
       "      <td>67346</td>\n",
       "      <td>at achieving the modest , crowd-pleasing goals...</td>\n",
       "      <td>1</td>\n",
       "    </tr>\n",
       "    <tr>\n",
       "      <th>67347</th>\n",
       "      <td>67347</td>\n",
       "      <td>a patient viewer</td>\n",
       "      <td>1</td>\n",
       "    </tr>\n",
       "    <tr>\n",
       "      <th>67348</th>\n",
       "      <td>67348</td>\n",
       "      <td>this new jangle of noise , mayhem and stupidit...</td>\n",
       "      <td>0</td>\n",
       "    </tr>\n",
       "  </tbody>\n",
       "</table>\n",
       "<p>67349 rows × 3 columns</p>\n",
       "</div>"
      ],
      "text/plain": [
       "         idx                                           sentence  label\n",
       "0          0       hide new secretions from the parental units       0\n",
       "1          1               contains no wit , only labored gags       0\n",
       "2          2  that loves its characters and communicates som...      1\n",
       "3          3  remains utterly satisfied to remain the same t...      0\n",
       "4          4  on the worst revenge-of-the-nerds clichés the ...      0\n",
       "...      ...                                                ...    ...\n",
       "67344  67344                               a delightful comedy       1\n",
       "67345  67345                   anguish , anger and frustration       0\n",
       "67346  67346  at achieving the modest , crowd-pleasing goals...      1\n",
       "67347  67347                                  a patient viewer       1\n",
       "67348  67348  this new jangle of noise , mayhem and stupidit...      0\n",
       "\n",
       "[67349 rows x 3 columns]"
      ]
     },
     "execution_count": 2,
     "metadata": {},
     "output_type": "execute_result"
    }
   ],
   "source": [
    "#Step 2: Impoting Dataset, Here we are using Stanford Sentiment Treebank 2 Dataset\n",
    "splits = {'train': 'data/train-00000-of-00001.parquet', \n",
    "          'validation': 'data/validation-00000-of-00001.parquet', \n",
    "          'test': 'data/test-00000-of-00001.parquet'}\n",
    "sst_df_train = pd.read_parquet(\"datasets/sst2/\" + splits[\"train\"])\n",
    "sst_df_test = pd.read_parquet(\"datasets/sst2/\" + splits[\"test\"])\n",
    "sst_df_val = pd.read_parquet(\"datasets/sst2/\" + splits[\"validation\"])\n",
    "sst_df_train"
   ]
  },
  {
   "cell_type": "markdown",
   "id": "a51c2e38-37e0-4731-84a6-de96b95923e1",
   "metadata": {},
   "source": [
    "## Stanford Sentiment Treebank (SST2)\n",
    "\n",
    "The **Stanford Sentiment Treebank (SST2)** is a dataset designed for sentiment analysis tasks. It contains 11,855 single sentences extracted from movie reviews, annotated with sentiment labels. The dataset is a binary classification task where sentences are labeled as either **negative** (0) or **positive** (1). \n",
    "\n",
    "### Key Features:\n",
    "- **Sentences**: 11,855\n",
    "- **Labels**: \n",
    "  - Negative (0)\n",
    "  - Positive (1)\n",
    "- **Data Source**: Movie reviews\n",
    "- **Usage**: Commonly used for training and evaluating sentiment analysis models.\n",
    "\n",
    "### Data Structure:\n",
    "Each entry in the dataset consists of:\n",
    "- `sentence`: The text of the movie review.\n",
    "- `label`: The sentiment label associated with the sentence.\n",
    "\n",
    "### Splits:\n",
    "The dataset typically includes training, validation, and test splits to facilitate model evaluation.\n",
    "\n",
    "### Applications:\n",
    "SST2 is widely used in natural language processing research and serves as a benchmark for various sentiment classification algorithms."
   ]
  },
  {
   "cell_type": "code",
   "execution_count": 3,
   "id": "3a4abf13-6e73-417c-a8b9-2916054bceb7",
   "metadata": {},
   "outputs": [
    {
     "data": {
      "text/html": [
       "<div>\n",
       "<style scoped>\n",
       "    .dataframe tbody tr th:only-of-type {\n",
       "        vertical-align: middle;\n",
       "    }\n",
       "\n",
       "    .dataframe tbody tr th {\n",
       "        vertical-align: top;\n",
       "    }\n",
       "\n",
       "    .dataframe thead th {\n",
       "        text-align: right;\n",
       "    }\n",
       "</style>\n",
       "<table border=\"1\" class=\"dataframe\">\n",
       "  <thead>\n",
       "    <tr style=\"text-align: right;\">\n",
       "      <th></th>\n",
       "      <th>idx</th>\n",
       "      <th>sentence</th>\n",
       "      <th>label</th>\n",
       "    </tr>\n",
       "  </thead>\n",
       "  <tbody>\n",
       "    <tr>\n",
       "      <th>0</th>\n",
       "      <td>0</td>\n",
       "      <td>uneasy mishmash of styles and genres .</td>\n",
       "      <td>-1</td>\n",
       "    </tr>\n",
       "    <tr>\n",
       "      <th>1</th>\n",
       "      <td>1</td>\n",
       "      <td>this film 's relationship to actual tension is...</td>\n",
       "      <td>-1</td>\n",
       "    </tr>\n",
       "    <tr>\n",
       "      <th>2</th>\n",
       "      <td>2</td>\n",
       "      <td>by the end of no such thing the audience , lik...</td>\n",
       "      <td>-1</td>\n",
       "    </tr>\n",
       "    <tr>\n",
       "      <th>3</th>\n",
       "      <td>3</td>\n",
       "      <td>director rob marshall went out gunning to make...</td>\n",
       "      <td>-1</td>\n",
       "    </tr>\n",
       "    <tr>\n",
       "      <th>4</th>\n",
       "      <td>4</td>\n",
       "      <td>lathan and diggs have considerable personal ch...</td>\n",
       "      <td>-1</td>\n",
       "    </tr>\n",
       "    <tr>\n",
       "      <th>...</th>\n",
       "      <td>...</td>\n",
       "      <td>...</td>\n",
       "      <td>...</td>\n",
       "    </tr>\n",
       "    <tr>\n",
       "      <th>1816</th>\n",
       "      <td>1816</td>\n",
       "      <td>it risks seeming slow and pretentious , becaus...</td>\n",
       "      <td>-1</td>\n",
       "    </tr>\n",
       "    <tr>\n",
       "      <th>1817</th>\n",
       "      <td>1817</td>\n",
       "      <td>take care of my cat offers a refreshingly diff...</td>\n",
       "      <td>-1</td>\n",
       "    </tr>\n",
       "    <tr>\n",
       "      <th>1818</th>\n",
       "      <td>1818</td>\n",
       "      <td>davis has filled out his cast with appealing f...</td>\n",
       "      <td>-1</td>\n",
       "    </tr>\n",
       "    <tr>\n",
       "      <th>1819</th>\n",
       "      <td>1819</td>\n",
       "      <td>it represents better-than-average movie-making...</td>\n",
       "      <td>-1</td>\n",
       "    </tr>\n",
       "    <tr>\n",
       "      <th>1820</th>\n",
       "      <td>1820</td>\n",
       "      <td>dazzling and sugar-sweet , a blast of shallow ...</td>\n",
       "      <td>-1</td>\n",
       "    </tr>\n",
       "  </tbody>\n",
       "</table>\n",
       "<p>1821 rows × 3 columns</p>\n",
       "</div>"
      ],
      "text/plain": [
       "       idx                                           sentence  label\n",
       "0        0             uneasy mishmash of styles and genres .     -1\n",
       "1        1  this film 's relationship to actual tension is...     -1\n",
       "2        2  by the end of no such thing the audience , lik...     -1\n",
       "3        3  director rob marshall went out gunning to make...     -1\n",
       "4        4  lathan and diggs have considerable personal ch...     -1\n",
       "...    ...                                                ...    ...\n",
       "1816  1816  it risks seeming slow and pretentious , becaus...     -1\n",
       "1817  1817  take care of my cat offers a refreshingly diff...     -1\n",
       "1818  1818  davis has filled out his cast with appealing f...     -1\n",
       "1819  1819  it represents better-than-average movie-making...     -1\n",
       "1820  1820  dazzling and sugar-sweet , a blast of shallow ...     -1\n",
       "\n",
       "[1821 rows x 3 columns]"
      ]
     },
     "execution_count": 3,
     "metadata": {},
     "output_type": "execute_result"
    }
   ],
   "source": [
    "sst_df_test"
   ]
  },
  {
   "cell_type": "code",
   "execution_count": 4,
   "id": "d6ab03be-3d3e-4637-a51e-1f3cfbc16bc7",
   "metadata": {},
   "outputs": [
    {
     "data": {
      "text/html": [
       "<div>\n",
       "<style scoped>\n",
       "    .dataframe tbody tr th:only-of-type {\n",
       "        vertical-align: middle;\n",
       "    }\n",
       "\n",
       "    .dataframe tbody tr th {\n",
       "        vertical-align: top;\n",
       "    }\n",
       "\n",
       "    .dataframe thead th {\n",
       "        text-align: right;\n",
       "    }\n",
       "</style>\n",
       "<table border=\"1\" class=\"dataframe\">\n",
       "  <thead>\n",
       "    <tr style=\"text-align: right;\">\n",
       "      <th></th>\n",
       "      <th>idx</th>\n",
       "      <th>sentence</th>\n",
       "      <th>label</th>\n",
       "    </tr>\n",
       "  </thead>\n",
       "  <tbody>\n",
       "    <tr>\n",
       "      <th>0</th>\n",
       "      <td>0</td>\n",
       "      <td>uneasy mishmash of styles and genres .</td>\n",
       "      <td>0</td>\n",
       "    </tr>\n",
       "    <tr>\n",
       "      <th>1</th>\n",
       "      <td>1</td>\n",
       "      <td>this film 's relationship to actual tension is...</td>\n",
       "      <td>0</td>\n",
       "    </tr>\n",
       "    <tr>\n",
       "      <th>2</th>\n",
       "      <td>2</td>\n",
       "      <td>by the end of no such thing the audience , lik...</td>\n",
       "      <td>0</td>\n",
       "    </tr>\n",
       "    <tr>\n",
       "      <th>3</th>\n",
       "      <td>3</td>\n",
       "      <td>director rob marshall went out gunning to make...</td>\n",
       "      <td>0</td>\n",
       "    </tr>\n",
       "    <tr>\n",
       "      <th>4</th>\n",
       "      <td>4</td>\n",
       "      <td>lathan and diggs have considerable personal ch...</td>\n",
       "      <td>0</td>\n",
       "    </tr>\n",
       "    <tr>\n",
       "      <th>...</th>\n",
       "      <td>...</td>\n",
       "      <td>...</td>\n",
       "      <td>...</td>\n",
       "    </tr>\n",
       "    <tr>\n",
       "      <th>1816</th>\n",
       "      <td>1816</td>\n",
       "      <td>it risks seeming slow and pretentious , becaus...</td>\n",
       "      <td>0</td>\n",
       "    </tr>\n",
       "    <tr>\n",
       "      <th>1817</th>\n",
       "      <td>1817</td>\n",
       "      <td>take care of my cat offers a refreshingly diff...</td>\n",
       "      <td>0</td>\n",
       "    </tr>\n",
       "    <tr>\n",
       "      <th>1818</th>\n",
       "      <td>1818</td>\n",
       "      <td>davis has filled out his cast with appealing f...</td>\n",
       "      <td>0</td>\n",
       "    </tr>\n",
       "    <tr>\n",
       "      <th>1819</th>\n",
       "      <td>1819</td>\n",
       "      <td>it represents better-than-average movie-making...</td>\n",
       "      <td>0</td>\n",
       "    </tr>\n",
       "    <tr>\n",
       "      <th>1820</th>\n",
       "      <td>1820</td>\n",
       "      <td>dazzling and sugar-sweet , a blast of shallow ...</td>\n",
       "      <td>0</td>\n",
       "    </tr>\n",
       "  </tbody>\n",
       "</table>\n",
       "<p>1821 rows × 3 columns</p>\n",
       "</div>"
      ],
      "text/plain": [
       "       idx                                           sentence  label\n",
       "0        0             uneasy mishmash of styles and genres .      0\n",
       "1        1  this film 's relationship to actual tension is...      0\n",
       "2        2  by the end of no such thing the audience , lik...      0\n",
       "3        3  director rob marshall went out gunning to make...      0\n",
       "4        4  lathan and diggs have considerable personal ch...      0\n",
       "...    ...                                                ...    ...\n",
       "1816  1816  it risks seeming slow and pretentious , becaus...      0\n",
       "1817  1817  take care of my cat offers a refreshingly diff...      0\n",
       "1818  1818  davis has filled out his cast with appealing f...      0\n",
       "1819  1819  it represents better-than-average movie-making...      0\n",
       "1820  1820  dazzling and sugar-sweet , a blast of shallow ...      0\n",
       "\n",
       "[1821 rows x 3 columns]"
      ]
     },
     "execution_count": 4,
     "metadata": {},
     "output_type": "execute_result"
    }
   ],
   "source": [
    "# Adjust labels in the test set (if necessary)\n",
    "sst_df_test['label'] = sst_df_test['label'].replace({-1: 0, 1: 1})\n",
    "sst_df_test"
   ]
  },
  {
   "cell_type": "code",
   "execution_count": 5,
   "id": "62461d53-5067-4da3-b21b-84e02df27ca4",
   "metadata": {},
   "outputs": [
    {
     "data": {
      "text/html": [
       "<div>\n",
       "<style scoped>\n",
       "    .dataframe tbody tr th:only-of-type {\n",
       "        vertical-align: middle;\n",
       "    }\n",
       "\n",
       "    .dataframe tbody tr th {\n",
       "        vertical-align: top;\n",
       "    }\n",
       "\n",
       "    .dataframe thead th {\n",
       "        text-align: right;\n",
       "    }\n",
       "</style>\n",
       "<table border=\"1\" class=\"dataframe\">\n",
       "  <thead>\n",
       "    <tr style=\"text-align: right;\">\n",
       "      <th></th>\n",
       "      <th>idx</th>\n",
       "      <th>sentence</th>\n",
       "      <th>label</th>\n",
       "    </tr>\n",
       "  </thead>\n",
       "  <tbody>\n",
       "    <tr>\n",
       "      <th>0</th>\n",
       "      <td>0</td>\n",
       "      <td>it 's a charming and often affecting journey .</td>\n",
       "      <td>1</td>\n",
       "    </tr>\n",
       "    <tr>\n",
       "      <th>1</th>\n",
       "      <td>1</td>\n",
       "      <td>unflinchingly bleak and desperate</td>\n",
       "      <td>0</td>\n",
       "    </tr>\n",
       "    <tr>\n",
       "      <th>2</th>\n",
       "      <td>2</td>\n",
       "      <td>allows us to hope that nolan is poised to emba...</td>\n",
       "      <td>1</td>\n",
       "    </tr>\n",
       "    <tr>\n",
       "      <th>3</th>\n",
       "      <td>3</td>\n",
       "      <td>the acting , costumes , music , cinematography...</td>\n",
       "      <td>1</td>\n",
       "    </tr>\n",
       "    <tr>\n",
       "      <th>4</th>\n",
       "      <td>4</td>\n",
       "      <td>it 's slow -- very , very slow .</td>\n",
       "      <td>0</td>\n",
       "    </tr>\n",
       "    <tr>\n",
       "      <th>...</th>\n",
       "      <td>...</td>\n",
       "      <td>...</td>\n",
       "      <td>...</td>\n",
       "    </tr>\n",
       "    <tr>\n",
       "      <th>867</th>\n",
       "      <td>867</td>\n",
       "      <td>has all the depth of a wading pool .</td>\n",
       "      <td>0</td>\n",
       "    </tr>\n",
       "    <tr>\n",
       "      <th>868</th>\n",
       "      <td>868</td>\n",
       "      <td>a movie with a real anarchic flair .</td>\n",
       "      <td>1</td>\n",
       "    </tr>\n",
       "    <tr>\n",
       "      <th>869</th>\n",
       "      <td>869</td>\n",
       "      <td>a subject like this should inspire reaction in...</td>\n",
       "      <td>0</td>\n",
       "    </tr>\n",
       "    <tr>\n",
       "      <th>870</th>\n",
       "      <td>870</td>\n",
       "      <td>... is an arthritic attempt at directing by ca...</td>\n",
       "      <td>0</td>\n",
       "    </tr>\n",
       "    <tr>\n",
       "      <th>871</th>\n",
       "      <td>871</td>\n",
       "      <td>looking aristocratic , luminous yet careworn i...</td>\n",
       "      <td>1</td>\n",
       "    </tr>\n",
       "  </tbody>\n",
       "</table>\n",
       "<p>872 rows × 3 columns</p>\n",
       "</div>"
      ],
      "text/plain": [
       "     idx                                           sentence  label\n",
       "0      0    it 's a charming and often affecting journey .       1\n",
       "1      1                 unflinchingly bleak and desperate       0\n",
       "2      2  allows us to hope that nolan is poised to emba...      1\n",
       "3      3  the acting , costumes , music , cinematography...      1\n",
       "4      4                  it 's slow -- very , very slow .       0\n",
       "..   ...                                                ...    ...\n",
       "867  867              has all the depth of a wading pool .       0\n",
       "868  868              a movie with a real anarchic flair .       1\n",
       "869  869  a subject like this should inspire reaction in...      0\n",
       "870  870  ... is an arthritic attempt at directing by ca...      0\n",
       "871  871  looking aristocratic , luminous yet careworn i...      1\n",
       "\n",
       "[872 rows x 3 columns]"
      ]
     },
     "execution_count": 5,
     "metadata": {},
     "output_type": "execute_result"
    }
   ],
   "source": [
    "sst_df_val"
   ]
  },
  {
   "cell_type": "code",
   "execution_count": 6,
   "id": "a43e9e92-ced6-4f91-a455-677904d38a97",
   "metadata": {},
   "outputs": [],
   "source": [
    "# Creating a copy of datafames to be used in Word2Vec\n",
    "sst_word2vec_df_train=pd.DataFrame(sst_df_train)\n",
    "sst_word2vec_df_test=pd.DataFrame(sst_df_test)\n",
    "sst_word2vec_df_val=pd.DataFrame(sst_df_val)"
   ]
  },
  {
   "cell_type": "code",
   "execution_count": 7,
   "id": "5bc85459-4da8-49a2-8d34-c2b2dfbfe6b2",
   "metadata": {},
   "outputs": [
    {
     "data": {
      "text/html": [
       "<div>\n",
       "<style scoped>\n",
       "    .dataframe tbody tr th:only-of-type {\n",
       "        vertical-align: middle;\n",
       "    }\n",
       "\n",
       "    .dataframe tbody tr th {\n",
       "        vertical-align: top;\n",
       "    }\n",
       "\n",
       "    .dataframe thead th {\n",
       "        text-align: right;\n",
       "    }\n",
       "</style>\n",
       "<table border=\"1\" class=\"dataframe\">\n",
       "  <thead>\n",
       "    <tr style=\"text-align: right;\">\n",
       "      <th></th>\n",
       "      <th>idx</th>\n",
       "      <th>sentence</th>\n",
       "      <th>label</th>\n",
       "    </tr>\n",
       "  </thead>\n",
       "  <tbody>\n",
       "    <tr>\n",
       "      <th>0</th>\n",
       "      <td>0</td>\n",
       "      <td>uneasy mishmash of styles and genres .</td>\n",
       "      <td>0</td>\n",
       "    </tr>\n",
       "    <tr>\n",
       "      <th>1</th>\n",
       "      <td>1</td>\n",
       "      <td>this film 's relationship to actual tension is...</td>\n",
       "      <td>0</td>\n",
       "    </tr>\n",
       "    <tr>\n",
       "      <th>2</th>\n",
       "      <td>2</td>\n",
       "      <td>by the end of no such thing the audience , lik...</td>\n",
       "      <td>0</td>\n",
       "    </tr>\n",
       "    <tr>\n",
       "      <th>3</th>\n",
       "      <td>3</td>\n",
       "      <td>director rob marshall went out gunning to make...</td>\n",
       "      <td>0</td>\n",
       "    </tr>\n",
       "    <tr>\n",
       "      <th>4</th>\n",
       "      <td>4</td>\n",
       "      <td>lathan and diggs have considerable personal ch...</td>\n",
       "      <td>0</td>\n",
       "    </tr>\n",
       "    <tr>\n",
       "      <th>...</th>\n",
       "      <td>...</td>\n",
       "      <td>...</td>\n",
       "      <td>...</td>\n",
       "    </tr>\n",
       "    <tr>\n",
       "      <th>1816</th>\n",
       "      <td>1816</td>\n",
       "      <td>it risks seeming slow and pretentious , becaus...</td>\n",
       "      <td>0</td>\n",
       "    </tr>\n",
       "    <tr>\n",
       "      <th>1817</th>\n",
       "      <td>1817</td>\n",
       "      <td>take care of my cat offers a refreshingly diff...</td>\n",
       "      <td>0</td>\n",
       "    </tr>\n",
       "    <tr>\n",
       "      <th>1818</th>\n",
       "      <td>1818</td>\n",
       "      <td>davis has filled out his cast with appealing f...</td>\n",
       "      <td>0</td>\n",
       "    </tr>\n",
       "    <tr>\n",
       "      <th>1819</th>\n",
       "      <td>1819</td>\n",
       "      <td>it represents better-than-average movie-making...</td>\n",
       "      <td>0</td>\n",
       "    </tr>\n",
       "    <tr>\n",
       "      <th>1820</th>\n",
       "      <td>1820</td>\n",
       "      <td>dazzling and sugar-sweet , a blast of shallow ...</td>\n",
       "      <td>0</td>\n",
       "    </tr>\n",
       "  </tbody>\n",
       "</table>\n",
       "<p>1821 rows × 3 columns</p>\n",
       "</div>"
      ],
      "text/plain": [
       "       idx                                           sentence  label\n",
       "0        0             uneasy mishmash of styles and genres .      0\n",
       "1        1  this film 's relationship to actual tension is...      0\n",
       "2        2  by the end of no such thing the audience , lik...      0\n",
       "3        3  director rob marshall went out gunning to make...      0\n",
       "4        4  lathan and diggs have considerable personal ch...      0\n",
       "...    ...                                                ...    ...\n",
       "1816  1816  it risks seeming slow and pretentious , becaus...      0\n",
       "1817  1817  take care of my cat offers a refreshingly diff...      0\n",
       "1818  1818  davis has filled out his cast with appealing f...      0\n",
       "1819  1819  it represents better-than-average movie-making...      0\n",
       "1820  1820  dazzling and sugar-sweet , a blast of shallow ...      0\n",
       "\n",
       "[1821 rows x 3 columns]"
      ]
     },
     "execution_count": 7,
     "metadata": {},
     "output_type": "execute_result"
    }
   ],
   "source": [
    "sst_word2vec_df_test"
   ]
  },
  {
   "cell_type": "code",
   "execution_count": 8,
   "id": "de652fe7-9437-48bb-84dc-37a3eeca805e",
   "metadata": {},
   "outputs": [],
   "source": [
    "# Tokenization and lowercasing for training data\n",
    "sst_word2vec_df_train['sentence'] = sst_word2vec_df_train['sentence'].apply(lambda x: x.lower().split())\n",
    "sst_word2vec_df_val['sentence'] = sst_word2vec_df_val['sentence'].apply(lambda x: x.lower().split())\n",
    "sst_word2vec_df_test['sentence'] = sst_word2vec_df_test['sentence'].apply(lambda x: x.lower().split())"
   ]
  },
  {
   "cell_type": "code",
   "execution_count": 9,
   "id": "8c06dc57-0271-499d-8396-35905fc6544c",
   "metadata": {},
   "outputs": [
    {
     "data": {
      "text/html": [
       "<div>\n",
       "<style scoped>\n",
       "    .dataframe tbody tr th:only-of-type {\n",
       "        vertical-align: middle;\n",
       "    }\n",
       "\n",
       "    .dataframe tbody tr th {\n",
       "        vertical-align: top;\n",
       "    }\n",
       "\n",
       "    .dataframe thead th {\n",
       "        text-align: right;\n",
       "    }\n",
       "</style>\n",
       "<table border=\"1\" class=\"dataframe\">\n",
       "  <thead>\n",
       "    <tr style=\"text-align: right;\">\n",
       "      <th></th>\n",
       "      <th>idx</th>\n",
       "      <th>sentence</th>\n",
       "      <th>label</th>\n",
       "    </tr>\n",
       "  </thead>\n",
       "  <tbody>\n",
       "    <tr>\n",
       "      <th>0</th>\n",
       "      <td>0</td>\n",
       "      <td>[hide, new, secretions, from, the, parental, u...</td>\n",
       "      <td>0</td>\n",
       "    </tr>\n",
       "    <tr>\n",
       "      <th>1</th>\n",
       "      <td>1</td>\n",
       "      <td>[contains, no, wit, ,, only, labored, gags]</td>\n",
       "      <td>0</td>\n",
       "    </tr>\n",
       "    <tr>\n",
       "      <th>2</th>\n",
       "      <td>2</td>\n",
       "      <td>[that, loves, its, characters, and, communicat...</td>\n",
       "      <td>1</td>\n",
       "    </tr>\n",
       "    <tr>\n",
       "      <th>3</th>\n",
       "      <td>3</td>\n",
       "      <td>[remains, utterly, satisfied, to, remain, the,...</td>\n",
       "      <td>0</td>\n",
       "    </tr>\n",
       "    <tr>\n",
       "      <th>4</th>\n",
       "      <td>4</td>\n",
       "      <td>[on, the, worst, revenge-of-the-nerds, clichés...</td>\n",
       "      <td>0</td>\n",
       "    </tr>\n",
       "    <tr>\n",
       "      <th>...</th>\n",
       "      <td>...</td>\n",
       "      <td>...</td>\n",
       "      <td>...</td>\n",
       "    </tr>\n",
       "    <tr>\n",
       "      <th>67344</th>\n",
       "      <td>67344</td>\n",
       "      <td>[a, delightful, comedy]</td>\n",
       "      <td>1</td>\n",
       "    </tr>\n",
       "    <tr>\n",
       "      <th>67345</th>\n",
       "      <td>67345</td>\n",
       "      <td>[anguish, ,, anger, and, frustration]</td>\n",
       "      <td>0</td>\n",
       "    </tr>\n",
       "    <tr>\n",
       "      <th>67346</th>\n",
       "      <td>67346</td>\n",
       "      <td>[at, achieving, the, modest, ,, crowd-pleasing...</td>\n",
       "      <td>1</td>\n",
       "    </tr>\n",
       "    <tr>\n",
       "      <th>67347</th>\n",
       "      <td>67347</td>\n",
       "      <td>[a, patient, viewer]</td>\n",
       "      <td>1</td>\n",
       "    </tr>\n",
       "    <tr>\n",
       "      <th>67348</th>\n",
       "      <td>67348</td>\n",
       "      <td>[this, new, jangle, of, noise, ,, mayhem, and,...</td>\n",
       "      <td>0</td>\n",
       "    </tr>\n",
       "  </tbody>\n",
       "</table>\n",
       "<p>67349 rows × 3 columns</p>\n",
       "</div>"
      ],
      "text/plain": [
       "         idx                                           sentence  label\n",
       "0          0  [hide, new, secretions, from, the, parental, u...      0\n",
       "1          1        [contains, no, wit, ,, only, labored, gags]      0\n",
       "2          2  [that, loves, its, characters, and, communicat...      1\n",
       "3          3  [remains, utterly, satisfied, to, remain, the,...      0\n",
       "4          4  [on, the, worst, revenge-of-the-nerds, clichés...      0\n",
       "...      ...                                                ...    ...\n",
       "67344  67344                            [a, delightful, comedy]      1\n",
       "67345  67345              [anguish, ,, anger, and, frustration]      0\n",
       "67346  67346  [at, achieving, the, modest, ,, crowd-pleasing...      1\n",
       "67347  67347                               [a, patient, viewer]      1\n",
       "67348  67348  [this, new, jangle, of, noise, ,, mayhem, and,...      0\n",
       "\n",
       "[67349 rows x 3 columns]"
      ]
     },
     "execution_count": 9,
     "metadata": {},
     "output_type": "execute_result"
    }
   ],
   "source": [
    "sst_word2vec_df_train"
   ]
  },
  {
   "cell_type": "markdown",
   "id": "57d382a8-6738-47c5-a586-aacb2cc3697e",
   "metadata": {},
   "source": [
    "## 1. Word2Vec"
   ]
  },
  {
   "cell_type": "code",
   "execution_count": 10,
   "id": "1f96c6bd-2857-47b1-88a2-9e39c87a4526",
   "metadata": {},
   "outputs": [
    {
     "name": "stdout",
     "output_type": "stream",
     "text": [
      "[-0.04933172  0.11031395  0.04526384  0.00047584 -0.00827894 -0.10987838\n",
      " -0.00208221  0.1786304  -0.05769502 -0.07466732  0.02547914 -0.11817035\n",
      " -0.04311824 -0.00404335  0.02626322 -0.03645671  0.07248522 -0.04125851\n",
      " -0.03679681 -0.18155777  0.05642984 -0.01839122  0.12926629 -0.06640902\n",
      " -0.02555102  0.06233253 -0.07495719 -0.02060423 -0.1053853   0.05501481\n",
      "  0.07596803 -0.00437624  0.07061203 -0.12013289 -0.01576231  0.05670581\n",
      "  0.02742136 -0.05130351 -0.06927042 -0.14912045  0.01133712 -0.05278876\n",
      " -0.06128582  0.04162407  0.06711989 -0.04246452 -0.09575955 -0.070294\n",
      "  0.06481946  0.05866391  0.01959872 -0.05820773  0.00355092 -0.1152381\n",
      " -0.07381132  0.01955243  0.01847329  0.00025301 -0.05988537  0.07675087\n",
      "  0.05372843 -0.01523125 -0.01013785  0.05952853 -0.06463469  0.14442702\n",
      "  0.04305502  0.10277202 -0.1477983   0.07673109 -0.06978782  0.02792885\n",
      "  0.10983616  0.06059513  0.11287121 -0.00175203  0.03486842 -0.01168799\n",
      " -0.06385909 -0.06632806 -0.08883946 -0.04841856 -0.01688074  0.09670928\n",
      " -0.03604168 -0.0127736   0.11400872  0.0897292   0.14457367  0.02462813\n",
      "  0.07732603  0.09004301  0.05906029 -0.05398516  0.12047129  0.0852444\n",
      "  0.02783802 -0.05945743 -0.02634826 -0.013602  ]\n"
     ]
    }
   ],
   "source": [
    "# Train a Word2Vec model on the training sentences\n",
    "word2vec_model = Word2Vec(sentences=sst_word2vec_df_train['sentence'], vector_size=100, window=5, min_count=1, workers=4)\n",
    "\n",
    "# Example of getting a vector for a word (optional)\n",
    "word_vector = word2vec_model.wv['risks']  # Replace 'risks' with any word in your dataset\n",
    "print(word_vector)"
   ]
  },
  {
   "cell_type": "code",
   "execution_count": 11,
   "id": "2b31e86b-d1c5-4ede-a91e-e9790abc1bf9",
   "metadata": {},
   "outputs": [],
   "source": [
    "# Train a Word2Vec model on the training sentences\n",
    "word2vec_model = Word2Vec(sentences=sst_word2vec_df_train['sentence'], vector_size=100, window=5, min_count=1, workers=4)\n",
    "\n",
    "# Function to get sentence embeddings by averaging word vectors\n",
    "def get_sentence_vector(sentence):\n",
    "    # Filter out words not in the vocabulary\n",
    "    word_vectors = [word2vec_model.wv[word] for word in sentence if word in word2vec_model.wv]\n",
    "    return np.mean(word_vectors, axis=0) if word_vectors else np.zeros(word2vec_model.vector_size)\n",
    "\n",
    "# Get Word2Vec embeddings for each sentence in training, validation, and test sets\n",
    "sst_word2vec_df_train['word2vec_embedding'] = sst_word2vec_df_train['sentence'].apply(get_sentence_vector)\n",
    "sst_word2vec_df_val['word2vec_embedding'] = sst_word2vec_df_val['sentence'].apply(get_sentence_vector)\n",
    "sst_word2vec_df_test['word2vec_embedding'] = sst_word2vec_df_test['sentence'].apply(get_sentence_vector)"
   ]
  },
  {
   "cell_type": "code",
   "execution_count": 12,
   "id": "7dac8e47-492a-43d1-94bc-2a6e43575485",
   "metadata": {},
   "outputs": [
    {
     "data": {
      "text/html": [
       "<div>\n",
       "<style scoped>\n",
       "    .dataframe tbody tr th:only-of-type {\n",
       "        vertical-align: middle;\n",
       "    }\n",
       "\n",
       "    .dataframe tbody tr th {\n",
       "        vertical-align: top;\n",
       "    }\n",
       "\n",
       "    .dataframe thead th {\n",
       "        text-align: right;\n",
       "    }\n",
       "</style>\n",
       "<table border=\"1\" class=\"dataframe\">\n",
       "  <thead>\n",
       "    <tr style=\"text-align: right;\">\n",
       "      <th></th>\n",
       "      <th>idx</th>\n",
       "      <th>sentence</th>\n",
       "      <th>label</th>\n",
       "      <th>word2vec_embedding</th>\n",
       "    </tr>\n",
       "  </thead>\n",
       "  <tbody>\n",
       "    <tr>\n",
       "      <th>0</th>\n",
       "      <td>0</td>\n",
       "      <td>[hide, new, secretions, from, the, parental, u...</td>\n",
       "      <td>0</td>\n",
       "      <td>[-0.07686861, 0.28996092, 0.08085586, -0.13063...</td>\n",
       "    </tr>\n",
       "    <tr>\n",
       "      <th>1</th>\n",
       "      <td>1</td>\n",
       "      <td>[contains, no, wit, ,, only, labored, gags]</td>\n",
       "      <td>0</td>\n",
       "      <td>[0.14492129, 0.26936415, -0.16523851, 0.400797...</td>\n",
       "    </tr>\n",
       "    <tr>\n",
       "      <th>2</th>\n",
       "      <td>2</td>\n",
       "      <td>[that, loves, its, characters, and, communicat...</td>\n",
       "      <td>1</td>\n",
       "      <td>[-0.15368174, 0.2722683, -0.5040707, 0.0731539...</td>\n",
       "    </tr>\n",
       "    <tr>\n",
       "      <th>3</th>\n",
       "      <td>3</td>\n",
       "      <td>[remains, utterly, satisfied, to, remain, the,...</td>\n",
       "      <td>0</td>\n",
       "      <td>[0.30119985, 0.35984367, -0.016400972, -0.1148...</td>\n",
       "    </tr>\n",
       "    <tr>\n",
       "      <th>4</th>\n",
       "      <td>4</td>\n",
       "      <td>[on, the, worst, revenge-of-the-nerds, clichés...</td>\n",
       "      <td>0</td>\n",
       "      <td>[0.37619603, 0.096211694, -0.108461976, -0.478...</td>\n",
       "    </tr>\n",
       "    <tr>\n",
       "      <th>...</th>\n",
       "      <td>...</td>\n",
       "      <td>...</td>\n",
       "      <td>...</td>\n",
       "      <td>...</td>\n",
       "    </tr>\n",
       "    <tr>\n",
       "      <th>67344</th>\n",
       "      <td>67344</td>\n",
       "      <td>[a, delightful, comedy]</td>\n",
       "      <td>1</td>\n",
       "      <td>[-0.66316473, 1.0022528, 0.14133011, 0.1557445...</td>\n",
       "    </tr>\n",
       "    <tr>\n",
       "      <th>67345</th>\n",
       "      <td>67345</td>\n",
       "      <td>[anguish, ,, anger, and, frustration]</td>\n",
       "      <td>0</td>\n",
       "      <td>[-0.43389136, 0.3333399, 0.026535729, 0.240289...</td>\n",
       "    </tr>\n",
       "    <tr>\n",
       "      <th>67346</th>\n",
       "      <td>67346</td>\n",
       "      <td>[at, achieving, the, modest, ,, crowd-pleasing...</td>\n",
       "      <td>1</td>\n",
       "      <td>[0.42759055, -0.15149726, -0.11698816, -0.0548...</td>\n",
       "    </tr>\n",
       "    <tr>\n",
       "      <th>67347</th>\n",
       "      <td>67347</td>\n",
       "      <td>[a, patient, viewer]</td>\n",
       "      <td>1</td>\n",
       "      <td>[0.1608256, 0.35729742, -0.2816789, -0.2888191...</td>\n",
       "    </tr>\n",
       "    <tr>\n",
       "      <th>67348</th>\n",
       "      <td>67348</td>\n",
       "      <td>[this, new, jangle, of, noise, ,, mayhem, and,...</td>\n",
       "      <td>0</td>\n",
       "      <td>[0.081324935, 0.4983917, -0.1458419, 0.0389203...</td>\n",
       "    </tr>\n",
       "  </tbody>\n",
       "</table>\n",
       "<p>67349 rows × 4 columns</p>\n",
       "</div>"
      ],
      "text/plain": [
       "         idx                                           sentence  label  \\\n",
       "0          0  [hide, new, secretions, from, the, parental, u...      0   \n",
       "1          1        [contains, no, wit, ,, only, labored, gags]      0   \n",
       "2          2  [that, loves, its, characters, and, communicat...      1   \n",
       "3          3  [remains, utterly, satisfied, to, remain, the,...      0   \n",
       "4          4  [on, the, worst, revenge-of-the-nerds, clichés...      0   \n",
       "...      ...                                                ...    ...   \n",
       "67344  67344                            [a, delightful, comedy]      1   \n",
       "67345  67345              [anguish, ,, anger, and, frustration]      0   \n",
       "67346  67346  [at, achieving, the, modest, ,, crowd-pleasing...      1   \n",
       "67347  67347                               [a, patient, viewer]      1   \n",
       "67348  67348  [this, new, jangle, of, noise, ,, mayhem, and,...      0   \n",
       "\n",
       "                                      word2vec_embedding  \n",
       "0      [-0.07686861, 0.28996092, 0.08085586, -0.13063...  \n",
       "1      [0.14492129, 0.26936415, -0.16523851, 0.400797...  \n",
       "2      [-0.15368174, 0.2722683, -0.5040707, 0.0731539...  \n",
       "3      [0.30119985, 0.35984367, -0.016400972, -0.1148...  \n",
       "4      [0.37619603, 0.096211694, -0.108461976, -0.478...  \n",
       "...                                                  ...  \n",
       "67344  [-0.66316473, 1.0022528, 0.14133011, 0.1557445...  \n",
       "67345  [-0.43389136, 0.3333399, 0.026535729, 0.240289...  \n",
       "67346  [0.42759055, -0.15149726, -0.11698816, -0.0548...  \n",
       "67347  [0.1608256, 0.35729742, -0.2816789, -0.2888191...  \n",
       "67348  [0.081324935, 0.4983917, -0.1458419, 0.0389203...  \n",
       "\n",
       "[67349 rows x 4 columns]"
      ]
     },
     "execution_count": 12,
     "metadata": {},
     "output_type": "execute_result"
    }
   ],
   "source": [
    "sst_word2vec_df_train"
   ]
  },
  {
   "cell_type": "code",
   "execution_count": 13,
   "id": "a93c6135-fc13-4bd0-9bfb-4e559119af8a",
   "metadata": {},
   "outputs": [
    {
     "data": {
      "text/html": [
       "<div>\n",
       "<style scoped>\n",
       "    .dataframe tbody tr th:only-of-type {\n",
       "        vertical-align: middle;\n",
       "    }\n",
       "\n",
       "    .dataframe tbody tr th {\n",
       "        vertical-align: top;\n",
       "    }\n",
       "\n",
       "    .dataframe thead th {\n",
       "        text-align: right;\n",
       "    }\n",
       "</style>\n",
       "<table border=\"1\" class=\"dataframe\">\n",
       "  <thead>\n",
       "    <tr style=\"text-align: right;\">\n",
       "      <th></th>\n",
       "      <th>idx</th>\n",
       "      <th>sentence</th>\n",
       "      <th>label</th>\n",
       "      <th>word2vec_embedding</th>\n",
       "    </tr>\n",
       "  </thead>\n",
       "  <tbody>\n",
       "    <tr>\n",
       "      <th>0</th>\n",
       "      <td>0</td>\n",
       "      <td>[uneasy, mishmash, of, styles, and, genres, .]</td>\n",
       "      <td>0</td>\n",
       "      <td>[-0.27578145, 0.36632887, -0.3312971, -0.08774...</td>\n",
       "    </tr>\n",
       "    <tr>\n",
       "      <th>1</th>\n",
       "      <td>1</td>\n",
       "      <td>[this, film, 's, relationship, to, actual, ten...</td>\n",
       "      <td>0</td>\n",
       "      <td>[0.38213748, 0.15726557, 0.060755756, 0.067194...</td>\n",
       "    </tr>\n",
       "    <tr>\n",
       "      <th>2</th>\n",
       "      <td>2</td>\n",
       "      <td>[by, the, end, of, no, such, thing, the, audie...</td>\n",
       "      <td>0</td>\n",
       "      <td>[0.20128031, 0.25748163, -0.20774564, -0.07913...</td>\n",
       "    </tr>\n",
       "    <tr>\n",
       "      <th>3</th>\n",
       "      <td>3</td>\n",
       "      <td>[director, rob, marshall, went, out, gunning, ...</td>\n",
       "      <td>0</td>\n",
       "      <td>[0.65507764, 0.20616445, -0.010046024, -0.1396...</td>\n",
       "    </tr>\n",
       "    <tr>\n",
       "      <th>4</th>\n",
       "      <td>4</td>\n",
       "      <td>[lathan, and, diggs, have, considerable, perso...</td>\n",
       "      <td>0</td>\n",
       "      <td>[-0.27992383, 0.55575854, -0.25356045, -0.2033...</td>\n",
       "    </tr>\n",
       "    <tr>\n",
       "      <th>...</th>\n",
       "      <td>...</td>\n",
       "      <td>...</td>\n",
       "      <td>...</td>\n",
       "      <td>...</td>\n",
       "    </tr>\n",
       "    <tr>\n",
       "      <th>1816</th>\n",
       "      <td>1816</td>\n",
       "      <td>[it, risks, seeming, slow, and, pretentious, ,...</td>\n",
       "      <td>0</td>\n",
       "      <td>[0.37341, 0.19124132, -0.06370319, 0.19131383,...</td>\n",
       "    </tr>\n",
       "    <tr>\n",
       "      <th>1817</th>\n",
       "      <td>1817</td>\n",
       "      <td>[take, care, of, my, cat, offers, a, refreshin...</td>\n",
       "      <td>0</td>\n",
       "      <td>[-0.010604143, 0.400033, -0.40628317, -0.23904...</td>\n",
       "    </tr>\n",
       "    <tr>\n",
       "      <th>1818</th>\n",
       "      <td>1818</td>\n",
       "      <td>[davis, has, filled, out, his, cast, with, app...</td>\n",
       "      <td>0</td>\n",
       "      <td>[-0.067281775, 0.7076917, -0.17244981, -0.3066...</td>\n",
       "    </tr>\n",
       "    <tr>\n",
       "      <th>1819</th>\n",
       "      <td>1819</td>\n",
       "      <td>[it, represents, better-than-average, movie-ma...</td>\n",
       "      <td>0</td>\n",
       "      <td>[0.4436468, 0.268451, -0.0048297094, -0.149378...</td>\n",
       "    </tr>\n",
       "    <tr>\n",
       "      <th>1820</th>\n",
       "      <td>1820</td>\n",
       "      <td>[dazzling, and, sugar-sweet, ,, a, blast, of, ...</td>\n",
       "      <td>0</td>\n",
       "      <td>[-0.14931394, 0.3057907, -0.15480855, 0.142096...</td>\n",
       "    </tr>\n",
       "  </tbody>\n",
       "</table>\n",
       "<p>1821 rows × 4 columns</p>\n",
       "</div>"
      ],
      "text/plain": [
       "       idx                                           sentence  label  \\\n",
       "0        0     [uneasy, mishmash, of, styles, and, genres, .]      0   \n",
       "1        1  [this, film, 's, relationship, to, actual, ten...      0   \n",
       "2        2  [by, the, end, of, no, such, thing, the, audie...      0   \n",
       "3        3  [director, rob, marshall, went, out, gunning, ...      0   \n",
       "4        4  [lathan, and, diggs, have, considerable, perso...      0   \n",
       "...    ...                                                ...    ...   \n",
       "1816  1816  [it, risks, seeming, slow, and, pretentious, ,...      0   \n",
       "1817  1817  [take, care, of, my, cat, offers, a, refreshin...      0   \n",
       "1818  1818  [davis, has, filled, out, his, cast, with, app...      0   \n",
       "1819  1819  [it, represents, better-than-average, movie-ma...      0   \n",
       "1820  1820  [dazzling, and, sugar-sweet, ,, a, blast, of, ...      0   \n",
       "\n",
       "                                     word2vec_embedding  \n",
       "0     [-0.27578145, 0.36632887, -0.3312971, -0.08774...  \n",
       "1     [0.38213748, 0.15726557, 0.060755756, 0.067194...  \n",
       "2     [0.20128031, 0.25748163, -0.20774564, -0.07913...  \n",
       "3     [0.65507764, 0.20616445, -0.010046024, -0.1396...  \n",
       "4     [-0.27992383, 0.55575854, -0.25356045, -0.2033...  \n",
       "...                                                 ...  \n",
       "1816  [0.37341, 0.19124132, -0.06370319, 0.19131383,...  \n",
       "1817  [-0.010604143, 0.400033, -0.40628317, -0.23904...  \n",
       "1818  [-0.067281775, 0.7076917, -0.17244981, -0.3066...  \n",
       "1819  [0.4436468, 0.268451, -0.0048297094, -0.149378...  \n",
       "1820  [-0.14931394, 0.3057907, -0.15480855, 0.142096...  \n",
       "\n",
       "[1821 rows x 4 columns]"
      ]
     },
     "execution_count": 13,
     "metadata": {},
     "output_type": "execute_result"
    }
   ],
   "source": [
    "sst_word2vec_df_test"
   ]
  },
  {
   "cell_type": "code",
   "execution_count": 14,
   "id": "b939e2b2-e028-4ab6-bc14-c92be25127f1",
   "metadata": {},
   "outputs": [
    {
     "data": {
      "text/html": [
       "<div>\n",
       "<style scoped>\n",
       "    .dataframe tbody tr th:only-of-type {\n",
       "        vertical-align: middle;\n",
       "    }\n",
       "\n",
       "    .dataframe tbody tr th {\n",
       "        vertical-align: top;\n",
       "    }\n",
       "\n",
       "    .dataframe thead th {\n",
       "        text-align: right;\n",
       "    }\n",
       "</style>\n",
       "<table border=\"1\" class=\"dataframe\">\n",
       "  <thead>\n",
       "    <tr style=\"text-align: right;\">\n",
       "      <th></th>\n",
       "      <th>idx</th>\n",
       "      <th>sentence</th>\n",
       "      <th>label</th>\n",
       "      <th>word2vec_embedding</th>\n",
       "    </tr>\n",
       "  </thead>\n",
       "  <tbody>\n",
       "    <tr>\n",
       "      <th>0</th>\n",
       "      <td>0</td>\n",
       "      <td>[it, 's, a, charming, and, often, affecting, j...</td>\n",
       "      <td>1</td>\n",
       "      <td>[0.12617642, 0.5456003, 0.04675001, 0.21874905...</td>\n",
       "    </tr>\n",
       "    <tr>\n",
       "      <th>1</th>\n",
       "      <td>1</td>\n",
       "      <td>[unflinchingly, bleak, and, desperate]</td>\n",
       "      <td>0</td>\n",
       "      <td>[-0.4752206, 0.48057595, 0.038492646, 0.068673...</td>\n",
       "    </tr>\n",
       "    <tr>\n",
       "      <th>2</th>\n",
       "      <td>2</td>\n",
       "      <td>[allows, us, to, hope, that, nolan, is, poised...</td>\n",
       "      <td>1</td>\n",
       "      <td>[0.40837762, 0.29851508, 0.065272436, -0.12086...</td>\n",
       "    </tr>\n",
       "    <tr>\n",
       "      <th>3</th>\n",
       "      <td>3</td>\n",
       "      <td>[the, acting, ,, costumes, ,, music, ,, cinema...</td>\n",
       "      <td>1</td>\n",
       "      <td>[-0.17083974, 0.45170712, -0.11599845, 0.32543...</td>\n",
       "    </tr>\n",
       "    <tr>\n",
       "      <th>4</th>\n",
       "      <td>4</td>\n",
       "      <td>[it, 's, slow, --, very, ,, very, slow, .]</td>\n",
       "      <td>0</td>\n",
       "      <td>[0.39511386, 0.27649876, 0.105151236, 0.589150...</td>\n",
       "    </tr>\n",
       "    <tr>\n",
       "      <th>...</th>\n",
       "      <td>...</td>\n",
       "      <td>...</td>\n",
       "      <td>...</td>\n",
       "      <td>...</td>\n",
       "    </tr>\n",
       "    <tr>\n",
       "      <th>867</th>\n",
       "      <td>867</td>\n",
       "      <td>[has, all, the, depth, of, a, wading, pool, .]</td>\n",
       "      <td>0</td>\n",
       "      <td>[0.055882573, 0.5829201, -0.51460975, -0.15941...</td>\n",
       "    </tr>\n",
       "    <tr>\n",
       "      <th>868</th>\n",
       "      <td>868</td>\n",
       "      <td>[a, movie, with, a, real, anarchic, flair, .]</td>\n",
       "      <td>1</td>\n",
       "      <td>[-0.21385093, 0.30001086, -0.5669189, -0.19091...</td>\n",
       "    </tr>\n",
       "    <tr>\n",
       "      <th>869</th>\n",
       "      <td>869</td>\n",
       "      <td>[a, subject, like, this, should, inspire, reac...</td>\n",
       "      <td>0</td>\n",
       "      <td>[0.43674672, 0.24287468, -0.10081896, -0.18028...</td>\n",
       "    </tr>\n",
       "    <tr>\n",
       "      <th>870</th>\n",
       "      <td>870</td>\n",
       "      <td>[..., is, an, arthritic, attempt, at, directin...</td>\n",
       "      <td>0</td>\n",
       "      <td>[0.0086042285, 0.0064435005, 0.027039668, -0.1...</td>\n",
       "    </tr>\n",
       "    <tr>\n",
       "      <th>871</th>\n",
       "      <td>871</td>\n",
       "      <td>[looking, aristocratic, ,, luminous, yet, care...</td>\n",
       "      <td>1</td>\n",
       "      <td>[0.15069018, 0.44041148, 0.2924975, 0.3317723,...</td>\n",
       "    </tr>\n",
       "  </tbody>\n",
       "</table>\n",
       "<p>872 rows × 4 columns</p>\n",
       "</div>"
      ],
      "text/plain": [
       "     idx                                           sentence  label  \\\n",
       "0      0  [it, 's, a, charming, and, often, affecting, j...      1   \n",
       "1      1             [unflinchingly, bleak, and, desperate]      0   \n",
       "2      2  [allows, us, to, hope, that, nolan, is, poised...      1   \n",
       "3      3  [the, acting, ,, costumes, ,, music, ,, cinema...      1   \n",
       "4      4         [it, 's, slow, --, very, ,, very, slow, .]      0   \n",
       "..   ...                                                ...    ...   \n",
       "867  867     [has, all, the, depth, of, a, wading, pool, .]      0   \n",
       "868  868      [a, movie, with, a, real, anarchic, flair, .]      1   \n",
       "869  869  [a, subject, like, this, should, inspire, reac...      0   \n",
       "870  870  [..., is, an, arthritic, attempt, at, directin...      0   \n",
       "871  871  [looking, aristocratic, ,, luminous, yet, care...      1   \n",
       "\n",
       "                                    word2vec_embedding  \n",
       "0    [0.12617642, 0.5456003, 0.04675001, 0.21874905...  \n",
       "1    [-0.4752206, 0.48057595, 0.038492646, 0.068673...  \n",
       "2    [0.40837762, 0.29851508, 0.065272436, -0.12086...  \n",
       "3    [-0.17083974, 0.45170712, -0.11599845, 0.32543...  \n",
       "4    [0.39511386, 0.27649876, 0.105151236, 0.589150...  \n",
       "..                                                 ...  \n",
       "867  [0.055882573, 0.5829201, -0.51460975, -0.15941...  \n",
       "868  [-0.21385093, 0.30001086, -0.5669189, -0.19091...  \n",
       "869  [0.43674672, 0.24287468, -0.10081896, -0.18028...  \n",
       "870  [0.0086042285, 0.0064435005, 0.027039668, -0.1...  \n",
       "871  [0.15069018, 0.44041148, 0.2924975, 0.3317723,...  \n",
       "\n",
       "[872 rows x 4 columns]"
      ]
     },
     "execution_count": 14,
     "metadata": {},
     "output_type": "execute_result"
    }
   ],
   "source": [
    "sst_word2vec_df_val"
   ]
  },
  {
   "cell_type": "code",
   "execution_count": 15,
   "id": "a2fe7ca8-9fe6-4e4a-a7e7-8742148f460e",
   "metadata": {},
   "outputs": [],
   "source": [
    "# Prepare labels and split data into training and testing sets for Word2Vec embeddings\n",
    "X_word2vec_train = np.array(sst_word2vec_df_train['word2vec_embedding'].tolist())\n",
    "y_word2vec_train = sst_word2vec_df_train['label'].values  # Assuming 'label' is the target column\n",
    "\n",
    "X_word2vec_val = np.array(sst_word2vec_df_val['word2vec_embedding'].tolist())\n",
    "y_word2vec_val = sst_word2vec_df_val['label'].values\n",
    "\n",
    "X_word2vec_test = np.array(sst_word2vec_df_test['word2vec_embedding'].tolist())\n",
    "y_word2vec_test = sst_word2vec_df_test['label'].values"
   ]
  },
  {
   "cell_type": "code",
   "execution_count": 16,
   "id": "0cfb2d87-2a3c-45ae-bc02-bbdcdcf24189",
   "metadata": {},
   "outputs": [
    {
     "data": {
      "text/plain": [
       "array([[-7.68686086e-02,  2.89960921e-01,  8.08558613e-02, ...,\n",
       "        -1.31224781e-01,  1.23204224e-01, -1.56041488e-01],\n",
       "       [ 1.44921288e-01,  2.69364148e-01, -1.65238515e-01, ...,\n",
       "        -1.72572002e-01, -1.37033790e-01,  4.11802117e-04],\n",
       "       [-1.53681740e-01,  2.72268295e-01, -5.04070699e-01, ...,\n",
       "        -2.52898782e-02,  7.17620626e-02, -1.82845727e-01],\n",
       "       ...,\n",
       "       [ 4.27590549e-01, -1.51497260e-01, -1.16988160e-01, ...,\n",
       "        -6.97093964e-01, -7.28725269e-02, -1.72092333e-01],\n",
       "       [ 1.60825595e-01,  3.57297421e-01, -2.81678885e-01, ...,\n",
       "        -1.76290408e-01,  4.39960450e-01, -8.90227929e-02],\n",
       "       [ 8.13249350e-02,  4.98391688e-01, -1.45841897e-01, ...,\n",
       "        -2.66627729e-01,  3.02426755e-01,  9.16222204e-03]], dtype=float32)"
      ]
     },
     "execution_count": 16,
     "metadata": {},
     "output_type": "execute_result"
    }
   ],
   "source": [
    "X_word2vec_train"
   ]
  },
  {
   "cell_type": "code",
   "execution_count": 17,
   "id": "62f02321-01f1-4d29-9685-7c2c054bb4df",
   "metadata": {},
   "outputs": [
    {
     "data": {
      "text/plain": [
       "array([0, 0, 1, ..., 1, 1, 0])"
      ]
     },
     "execution_count": 17,
     "metadata": {},
     "output_type": "execute_result"
    }
   ],
   "source": [
    "y_word2vec_train"
   ]
  },
  {
   "cell_type": "code",
   "execution_count": 18,
   "id": "3f5c152b-85de-4399-a294-192fc6f2c86f",
   "metadata": {},
   "outputs": [
    {
     "name": "stdout",
     "output_type": "stream",
     "text": [
      "Validation Classification Report:\n",
      "              precision    recall  f1-score   support\n",
      "\n",
      "           0       0.71      0.55      0.62       428\n",
      "           1       0.65      0.78      0.71       444\n",
      "\n",
      "    accuracy                           0.67       872\n",
      "   macro avg       0.68      0.67      0.67       872\n",
      "weighted avg       0.68      0.67      0.67       872\n",
      "\n"
     ]
    },
    {
     "data": {
      "image/png": "[encoded data removed]",
      "text/plain": [
       "<Figure size 1000x700 with 2 Axes>"
      ]
     },
     "metadata": {},
     "output_type": "display_data"
    }
   ],
   "source": [
    "\n",
    "# Train a logistic regression model on training data using Word2Vec embeddings\n",
    "classifier = LogisticRegression(max_iter=1000)\n",
    "classifier.fit(list(X_word2vec_train), y_word2vec_train)\n",
    "\n",
    "# Make predictions on validation set to tune hyperparameters (if needed)\n",
    "y_word2vec_val_pred = classifier.predict(list(X_word2vec_val))\n",
    "\n",
    "# Generate classification report and confusion matrix for validation set\n",
    "print(\"Validation Classification Report:\")\n",
    "print(classification_report(y_word2vec_val, y_word2vec_val_pred))\n",
    "\n",
    "val_conf_matrix = confusion_matrix(y_word2vec_val, y_word2vec_val_pred)\n",
    "\n",
    "# Plotting confusion matrix for validation set\n",
    "plt.figure(figsize=(10,7))\n",
    "sns.heatmap(val_conf_matrix, annot=True, fmt='d', cmap='Blues', \n",
    "            xticklabels=['Negative', 'Positive'], yticklabels=['Negative', 'Positive'])\n",
    "plt.ylabel('Actual')\n",
    "plt.xlabel('Predicted')\n",
    "plt.title('Validation Confusion Matrix')\n",
    "plt.show()"
   ]
  },
  {
   "cell_type": "code",
   "execution_count": 19,
   "id": "ac48d872-f283-4fd7-afb8-4dbf137d9ca8",
   "metadata": {},
   "outputs": [
    {
     "name": "stdout",
     "output_type": "stream",
     "text": [
      "Test Classification Report:\n",
      "              precision    recall  f1-score   support\n",
      "\n",
      "           0       0.71      0.55      0.62       428\n",
      "           1       0.65      0.78      0.71       444\n",
      "\n",
      "    accuracy                           0.67       872\n",
      "   macro avg       0.68      0.67      0.67       872\n",
      "weighted avg       0.68      0.67      0.67       872\n",
      "\n"
     ]
    },
    {
     "data": {
      "image/png": "[encoded data removed]",
      "text/plain": [
       "<Figure size 640x480 with 2 Axes>"
      ]
     },
     "metadata": {},
     "output_type": "display_data"
    }
   ],
   "source": [
    "y_word2vec_val_pred = classifier.predict(list(X_word2vec_val))\n",
    "# Generate classification report and confusion matrix for test set\n",
    "print(\"Test Classification Report:\")\n",
    "print(classification_report(y_word2vec_val, y_word2vec_val_pred))\n",
    "\n",
    "val_conf_matrix = confusion_matrix(y_word2vec_val, y_word2vec_val_pred)\n",
    "\n",
    "disp = ConfusionMatrixDisplay(confusion_matrix=val_conf_matrix, display_labels=['Negative', 'Positive'])\n",
    "disp.plot(cmap=plt.cm.Blues)\n",
    "plt.title('Validation Confusion Matrix')\n",
    "plt.show()"
   ]
  },
  {
   "cell_type": "code",
   "execution_count": 49,
   "id": "17440321-48a0-47cc-bdbc-43e725710d53",
   "metadata": {},
   "outputs": [
    {
     "name": "stdout",
     "output_type": "stream",
     "text": [
      "Test Classification Report:\n",
      "              precision    recall  f1-score   support\n",
      "\n",
      "           0       1.00      0.40      0.57      1821\n",
      "           1       0.00      0.00      0.00         0\n",
      "\n",
      "    accuracy                           0.40      1821\n",
      "   macro avg       0.50      0.20      0.29      1821\n",
      "weighted avg       1.00      0.40      0.57      1821\n",
      "\n"
     ]
    },
    {
     "data": {
      "image/png": "[encoded data removed]",
      "text/plain": [
       "<Figure size 1000x700 with 2 Axes>"
      ]
     },
     "metadata": {},
     "output_type": "display_data"
    }
   ],
   "source": [
    "y_word2vec_test_pred = classifier.predict(list(X_word2vec_test))\n",
    "# Generate classification report and confusion matrix for test set\n",
    "print(\"Test Classification Report:\")\n",
    "print(classification_report(y_word2vec_test, y_word2vec_test_pred))\n",
    "\n",
    "test_conf_matrix = confusion_matrix(y_word2vec_test, y_word2vec_test_pred)\n",
    "\n",
    "# Plotting confusion matrix for test set\n",
    "plt.figure(figsize=(10,7))\n",
    "sns.heatmap(test_conf_matrix, annot=True, fmt='d', cmap='Blues', \n",
    "            xticklabels=['Negative', 'Positive'], yticklabels=['Negative', 'Positive'])\n",
    "plt.ylabel('Actual')\n",
    "plt.xlabel('Predicted')\n",
    "plt.title('Test Confusion Matrix')\n",
    "plt.show()"
   ]
  },
  {
   "cell_type": "code",
   "execution_count": 21,
   "id": "37b94739-f39b-4ea1-8aa4-de4394f9a035",
   "metadata": {},
   "outputs": [
    {
     "name": "stdout",
     "output_type": "stream",
     "text": [
      "Unique values in y_test: [0]\n",
      "Unique values in y_test_pred: [0 1]\n"
     ]
    }
   ],
   "source": [
    "# Check unique values in y_test and y_test_pred\n",
    "print(\"Unique values in y_test:\", np.unique(y_word2vec_test))\n",
    "print(\"Unique values in y_test_pred:\", np.unique(y_word2vec_test_pred))"
   ]
  },
  {
   "cell_type": "code",
   "execution_count": 22,
   "id": "9fb8319c-81ed-49e6-9ad9-fe4de9d780ce",
   "metadata": {},
   "outputs": [
    {
     "data": {
      "image/png": "[encoded data removed]",
      "text/plain": [
       "<Figure size 640x480 with 2 Axes>"
      ]
     },
     "metadata": {},
     "output_type": "display_data"
    }
   ],
   "source": [
    "# Now evaluate on test set\n",
    "y_word2vec_test_pred = classifier.predict(list(X_word2vec_test))\n",
    "# Generate and plot confusion matrix using ConfusionMatrixDisplay\n",
    "test_conf_matrix = confusion_matrix(y_word2vec_test, y_word2vec_test_pred)\n",
    "disp = ConfusionMatrixDisplay(confusion_matrix=test_conf_matrix, display_labels=['Negative', 'Positive'])\n",
    "disp.plot(cmap=plt.cm.Blues)\n",
    "plt.title('Test Confusion Matrix')\n",
    "plt.show()"
   ]
  },
  {
   "cell_type": "markdown",
   "id": "144291a8-b11b-47e0-8c2d-780c2c4b58d4",
   "metadata": {},
   "source": [
    "## 2. TF-IDF: (Term Frequency-Inverse Document Frequency)"
   ]
  },
  {
   "cell_type": "code",
   "execution_count": 23,
   "id": "90a4a1a5-c9ef-4e7f-b3c1-99451d7becbc",
   "metadata": {},
   "outputs": [],
   "source": [
    "def evaluate_classifier(X_train, X_val, X_test, y_train, y_val, y_test):\n",
    "    classifier = LogisticRegression(max_iter=1000)\n",
    "    classifier.fit(X_train, y_train)\n",
    "    \n",
    "    # Predictions on validation set\n",
    "    y_val_pred = classifier.predict(X_val)\n",
    "    \n",
    "    # Predictions on test set\n",
    "    y_test_pred = classifier.predict(X_test)\n",
    "    \n",
    "    print(\"Validation Classification Report:\")\n",
    "    print(classification_report(y_val, y_val_pred))\n",
    "    \n",
    "    val_conf_matrix = confusion_matrix(y_val, y_val_pred)\n",
    "    disp = ConfusionMatrixDisplay(confusion_matrix=val_conf_matrix, display_labels=['Negative', 'Positive'])\n",
    "    disp.plot(cmap=plt.cm.Blues)\n",
    "    plt.title('Validation Confusion Matrix')\n",
    "    plt.show()\n",
    "    \n",
    "    print(\"Test Classification Report:\")\n",
    "    print(classification_report(y_test, y_test_pred))\n",
    "\n",
    "    # Generate and plot confusion matrix using ConfusionMatrixDisplay\n",
    "    test_conf_matrix = confusion_matrix(y_test, y_test_pred)\n",
    "    disp = ConfusionMatrixDisplay(confusion_matrix=test_conf_matrix, display_labels=['Negative', 'Positive'])\n",
    "    disp.plot(cmap=plt.cm.Blues)\n",
    "    plt.title('Test Confusion Matrix')\n",
    "    plt.show()"
   ]
  },
  {
   "cell_type": "code",
   "execution_count": 24,
   "id": "3539a71e-2c6c-4f7d-935d-b7ec39e5e993",
   "metadata": {},
   "outputs": [],
   "source": [
    "# TF-IDF Vectorization\n",
    "tfidf_vectorizer = TfidfVectorizer()\n",
    "X_tfidf_train = tfidf_vectorizer.fit_transform(sst_df_train['sentence'])\n",
    "X_tfidf_val = tfidf_vectorizer.transform(sst_df_val['sentence'])\n",
    "X_tfidf_test = tfidf_vectorizer.transform(sst_df_test['sentence'])"
   ]
  },
  {
   "cell_type": "code",
   "execution_count": 25,
   "id": "a1422b5e-093e-4520-be9d-795d4c51c440",
   "metadata": {},
   "outputs": [
    {
     "data": {
      "text/plain": [
       "(67349, 13774)"
      ]
     },
     "execution_count": 25,
     "metadata": {},
     "output_type": "execute_result"
    }
   ],
   "source": [
    "X_tfidf_train.shape"
   ]
  },
  {
   "cell_type": "code",
   "execution_count": 26,
   "id": "e2cb76e3-b407-4bf2-8503-564414c3b82d",
   "metadata": {},
   "outputs": [
    {
     "data": {
      "text/plain": [
       "array([[0., 0., 0., ..., 0., 0., 0.],\n",
       "       [0., 0., 0., ..., 0., 0., 0.],\n",
       "       [0., 0., 0., ..., 0., 0., 0.],\n",
       "       ...,\n",
       "       [0., 0., 0., ..., 0., 0., 0.],\n",
       "       [0., 0., 0., ..., 0., 0., 0.],\n",
       "       [0., 0., 0., ..., 0., 0., 0.]])"
      ]
     },
     "execution_count": 26,
     "metadata": {},
     "output_type": "execute_result"
    }
   ],
   "source": [
    "X_tfidf_train.toarray()"
   ]
  },
  {
   "cell_type": "code",
   "execution_count": 27,
   "id": "09faf029-b4a3-42cf-91d1-6169765ebc61",
   "metadata": {},
   "outputs": [
    {
     "name": "stdout",
     "output_type": "stream",
     "text": [
      "Evaluating TF-IDF:\n",
      "Validation Classification Report:\n",
      "              precision    recall  f1-score   support\n",
      "\n",
      "           0       0.85      0.78      0.81       428\n",
      "           1       0.80      0.87      0.83       444\n",
      "\n",
      "    accuracy                           0.82       872\n",
      "   macro avg       0.83      0.82      0.82       872\n",
      "weighted avg       0.83      0.82      0.82       872\n",
      "\n"
     ]
    },
    {
     "data": {
      "image/png": "[encoded data removed]",
      "text/plain": [
       "<Figure size 640x480 with 2 Axes>"
      ]
     },
     "metadata": {},
     "output_type": "display_data"
    },
    {
     "name": "stdout",
     "output_type": "stream",
     "text": [
      "Test Classification Report:\n",
      "              precision    recall  f1-score   support\n",
      "\n",
      "           0       1.00      0.46      0.63      1821\n",
      "           1       0.00      0.00      0.00         0\n",
      "\n",
      "    accuracy                           0.46      1821\n",
      "   macro avg       0.50      0.23      0.31      1821\n",
      "weighted avg       1.00      0.46      0.63      1821\n",
      "\n"
     ]
    },
    {
     "data": {
      "image/png": "[encoded data removed]",
      "text/plain": [
       "<Figure size 640x480 with 2 Axes>"
      ]
     },
     "metadata": {},
     "output_type": "display_data"
    }
   ],
   "source": [
    "# Prepare labels for training and testing sets\n",
    "y_tfidf_train = sst_df_train['label'].values  # Assuming 'label' is the target column\n",
    "y_tfidf_val = sst_df_val['label'].values\n",
    "y_tfidf_test = sst_df_test['label'].values\n",
    "\n",
    "# Evaluate each vectorization technique\n",
    "print(\"Evaluating TF-IDF:\")\n",
    "evaluate_classifier(X_tfidf_train.toarray(), X_tfidf_val.toarray(), \n",
    "                    X_tfidf_test.toarray(), y_tfidf_train, \n",
    "                    y_tfidf_val, y_tfidf_test)"
   ]
  },
  {
   "cell_type": "markdown",
   "id": "3b40fc9d-4aa7-4ef0-8603-ab4901c871d5",
   "metadata": {},
   "source": [
    "## 3. GloVe: (Global Vectors for Word Repersentation)"
   ]
  },
  {
   "cell_type": "code",
   "execution_count": 29,
   "id": "2772dc38-2de1-4b86-bcaa-20908744c80a",
   "metadata": {},
   "outputs": [],
   "source": [
    "# Load GloVe vectors from .txt file\n",
    "def load_glove_vectors(glove_file):\n",
    "    glove_vectors = {}\n",
    "    with open(glove_file, 'r', encoding='utf-8') as f:\n",
    "        for line in f:\n",
    "            values = line.split()\n",
    "            word = values[0]\n",
    "            vector = np.array(values[1:], dtype='float32')\n",
    "            glove_vectors[word] = vector\n",
    "    return glove_vectors\n",
    "\n",
    "# Load GloVe model (adjust the path accordingly)\n",
    "glove_file_path = 'datasets/nlp_pre_trained_word_embeddings/glove.6b/glove.6B.100d.txt'  # Replace with your actual path\n",
    "glove_model = load_glove_vectors(glove_file_path)\n",
    "\n",
    "# Function to get GloVe embeddings by averaging word vectors\n",
    "def get_glove_embeddings(sentences):\n",
    "    embeddings = []\n",
    "    for sentence in sentences:\n",
    "        words = sentence.split()\n",
    "        # Check if there are any valid words in the sentence\n",
    "        valid_word_vectors = [glove_model[word] for word in words if word in glove_model]\n",
    "        # Use np.mean on valid_word_vectors if not empty, otherwise use zero vector\n",
    "        if valid_word_vectors:\n",
    "            vector = np.mean(valid_word_vectors, axis=0)\n",
    "        else:\n",
    "            vector = np.zeros(100)  # Use 100 for GloVe 6B 100d\n",
    "        embeddings.append(vector)\n",
    "    return np.array(embeddings)\n",
    "\n",
    "# Example usage with your DataFrame (replace sst_df_train, sst_df_val, sst_df_test with your actual DataFrames)\n",
    "# Assuming these DataFrames have a 'sentence' column containing the text data\n",
    "X_glove_train = get_glove_embeddings(sst_df_train['sentence'])\n",
    "X_glove_val = get_glove_embeddings(sst_df_val['sentence'])\n",
    "X_glove_test = get_glove_embeddings(sst_df_test['sentence'])"
   ]
  },
  {
   "cell_type": "code",
   "execution_count": 30,
   "id": "dd9f841d-2b4c-422d-ac0a-f58f3052cfe6",
   "metadata": {},
   "outputs": [],
   "source": [
    "# Prepare labels for training and testing sets\n",
    "y_glove_train = sst_df_train['label'].values  # Assuming 'label' is the target column\n",
    "y_glove_val = sst_df_val['label'].values\n",
    "y_glove_test = sst_df_test['label'].values"
   ]
  },
  {
   "cell_type": "code",
   "execution_count": 31,
   "id": "a6855b07-f199-4c4a-8d2b-590d78aee55d",
   "metadata": {},
   "outputs": [
    {
     "data": {
      "text/plain": [
       "array([[ 0.14057828, -0.0689643 ,  0.31311712, ..., -0.30055001,\n",
       "         0.55530399, -0.11383305],\n",
       "       [-0.11907417,  0.34638432,  0.46991   , ..., -0.7022714 ,\n",
       "         0.24392144,  0.44225171],\n",
       "       [ 0.05421834,  0.40184   ,  0.55413431, ..., -0.70558167,\n",
       "         0.41836295,  0.4024241 ],\n",
       "       ...,\n",
       "       [-0.06550364,  0.11493463,  0.37917092, ..., -0.16989733,\n",
       "         0.50776052,  0.21899208],\n",
       "       [-0.25291666,  0.16351867,  0.27893665, ..., -0.48581001,\n",
       "         0.35243669, -0.09040666],\n",
       "       [-0.15989739,  0.03182573,  0.53505898, ..., -0.36585104,\n",
       "         0.57373714,  0.16234086]])"
      ]
     },
     "execution_count": 31,
     "metadata": {},
     "output_type": "execute_result"
    }
   ],
   "source": [
    "X_glove_train"
   ]
  },
  {
   "cell_type": "code",
   "execution_count": 32,
   "id": "841c828c-78ba-4603-af1d-04bf0dabedbb",
   "metadata": {},
   "outputs": [
    {
     "name": "stdout",
     "output_type": "stream",
     "text": [
      "Evaluating GloVe:\n",
      "Validation Classification Report:\n",
      "              precision    recall  f1-score   support\n",
      "\n",
      "           0       0.78      0.71      0.74       428\n",
      "           1       0.74      0.81      0.77       444\n",
      "\n",
      "    accuracy                           0.76       872\n",
      "   macro avg       0.76      0.76      0.76       872\n",
      "weighted avg       0.76      0.76      0.76       872\n",
      "\n"
     ]
    },
    {
     "data": {
      "image/png": "[encoded data removed]",
      "text/plain": [
       "<Figure size 640x480 with 2 Axes>"
      ]
     },
     "metadata": {},
     "output_type": "display_data"
    },
    {
     "name": "stdout",
     "output_type": "stream",
     "text": [
      "Test Classification Report:\n",
      "              precision    recall  f1-score   support\n",
      "\n",
      "           0       1.00      0.44      0.61      1821\n",
      "           1       0.00      0.00      0.00         0\n",
      "\n",
      "    accuracy                           0.44      1821\n",
      "   macro avg       0.50      0.22      0.31      1821\n",
      "weighted avg       1.00      0.44      0.61      1821\n",
      "\n"
     ]
    },
    {
     "data": {
      "image/png": "[encoded data removed]",
      "text/plain": [
       "<Figure size 640x480 with 2 Axes>"
      ]
     },
     "metadata": {},
     "output_type": "display_data"
    }
   ],
   "source": [
    "# Evaluate GloVe embeddings\n",
    "print(\"Evaluating GloVe:\")\n",
    "evaluate_classifier(X_glove_train, X_glove_val, X_glove_test, y_glove_train, y_glove_val, y_glove_test)"
   ]
  },
  {
   "cell_type": "markdown",
   "id": "6f174141-5147-49df-9ecd-2ad20dbe922d",
   "metadata": {},
   "source": [
    "## 4. FastText:"
   ]
  },
  {
   "cell_type": "code",
   "execution_count": 33,
   "id": "80bec31a-8833-42c0-8165-4d1a74c0531d",
   "metadata": {},
   "outputs": [],
   "source": [
    "# Train FastText model on training sentences or load pre-trained FastText model\n",
    "fasttext_model = FastText(sentences=[s.split() for s in sst_df_train['sentence']], vector_size=100, window=5, min_count=1)\n",
    "\n",
    "def get_fasttext_embeddings(sentences):\n",
    "    embeddings = []\n",
    "    for sentence in sentences:\n",
    "        words = sentence.split()\n",
    "        vector = np.mean([fasttext_model.wv[word] for word in words if word in fasttext_model.wv], axis=0)\n",
    "        embeddings.append(vector if len(vector) > 0 else np.zeros(fasttext_model.vector_size))\n",
    "    return np.array(embeddings)\n",
    "\n",
    "X_fasttext_train = get_fasttext_embeddings(sst_df_train['sentence'])\n",
    "X_fasttext_val = get_fasttext_embeddings(sst_df_val['sentence'])\n",
    "X_fasttext_test = get_fasttext_embeddings(sst_df_test['sentence'])"
   ]
  },
  {
   "cell_type": "code",
   "execution_count": 34,
   "id": "1372c69c-f593-427a-81ed-b5ab2246d7b7",
   "metadata": {},
   "outputs": [
    {
     "data": {
      "text/plain": [
       "array([[-0.09900681,  0.61897665, -0.53061193, ..., -0.68235385,\n",
       "         0.21843539,  0.6284152 ],\n",
       "       [ 0.44336253, -0.18279196, -0.39648813, ...,  0.2669016 ,\n",
       "        -0.81402403, -0.3930644 ],\n",
       "       [-0.36770222,  0.3116452 , -0.988633  , ...,  0.10527734,\n",
       "        -0.4290669 ,  0.16434866],\n",
       "       ...,\n",
       "       [ 0.54108226,  0.17850256, -0.67933756, ..., -0.2338989 ,\n",
       "        -0.19485734, -0.00552966],\n",
       "       [ 0.06955618,  0.20476668, -0.44519624, ..., -0.5201902 ,\n",
       "         0.71402806,  0.16492528],\n",
       "       [ 0.10446029,  0.18484515, -0.33351475, ..., -0.37506506,\n",
       "         0.15374205,  0.07846995]], dtype=float32)"
      ]
     },
     "execution_count": 34,
     "metadata": {},
     "output_type": "execute_result"
    }
   ],
   "source": [
    "X_fasttext_train"
   ]
  },
  {
   "cell_type": "code",
   "execution_count": 35,
   "id": "d68a42e9-7e19-41a0-99d7-9ac192b7f145",
   "metadata": {},
   "outputs": [
    {
     "data": {
      "text/plain": [
       "(67349, 100)"
      ]
     },
     "execution_count": 35,
     "metadata": {},
     "output_type": "execute_result"
    }
   ],
   "source": [
    "X_fasttext_train.shape"
   ]
  },
  {
   "cell_type": "code",
   "execution_count": 36,
   "id": "445ed8a5-8b9a-4e0a-8918-29ac8617bf04",
   "metadata": {},
   "outputs": [],
   "source": [
    "# Prepare labels for training and testing sets\n",
    "y_fasttext_train = sst_df_train['label'].values  # Assuming 'label' is the target column\n",
    "y_fasttext_val = sst_df_val['label'].values\n",
    "y_fasttext_test = sst_df_test['label'].values"
   ]
  },
  {
   "cell_type": "code",
   "execution_count": 37,
   "id": "eba3dea0-681f-4245-95c7-d553849e8b1a",
   "metadata": {},
   "outputs": [
    {
     "name": "stdout",
     "output_type": "stream",
     "text": [
      "Evaluating FastText:\n",
      "Validation Classification Report:\n",
      "              precision    recall  f1-score   support\n",
      "\n",
      "           0       0.71      0.54      0.61       428\n",
      "           1       0.64      0.79      0.71       444\n",
      "\n",
      "    accuracy                           0.67       872\n",
      "   macro avg       0.67      0.66      0.66       872\n",
      "weighted avg       0.67      0.67      0.66       872\n",
      "\n"
     ]
    },
    {
     "data": {
      "image/png": "[encoded data removed]",
      "text/plain": [
       "<Figure size 640x480 with 2 Axes>"
      ]
     },
     "metadata": {},
     "output_type": "display_data"
    },
    {
     "name": "stdout",
     "output_type": "stream",
     "text": [
      "Test Classification Report:\n",
      "              precision    recall  f1-score   support\n",
      "\n",
      "           0       1.00      0.38      0.55      1821\n",
      "           1       0.00      0.00      0.00         0\n",
      "\n",
      "    accuracy                           0.38      1821\n",
      "   macro avg       0.50      0.19      0.28      1821\n",
      "weighted avg       1.00      0.38      0.55      1821\n",
      "\n"
     ]
    },
    {
     "data": {
      "image/png": "[encoded data removed]",
      "text/plain": [
       "<Figure size 640x480 with 2 Axes>"
      ]
     },
     "metadata": {},
     "output_type": "display_data"
    }
   ],
   "source": [
    "# Evaluate FastText embeddings\n",
    "print(\"Evaluating FastText:\")\n",
    "evaluate_classifier(X_fasttext_train, X_fasttext_val, X_fasttext_test, y_fasttext_train, y_fasttext_val, y_fasttext_test)"
   ]
  },
  {
   "cell_type": "markdown",
   "id": "2e214daf-e98c-4af1-affe-8d989815a67e",
   "metadata": {},
   "source": [
    "## 5. Bag Of Words:"
   ]
  },
  {
   "cell_type": "code",
   "execution_count": 38,
   "id": "30e700ca-3cb0-4140-b0a2-b72050ec0995",
   "metadata": {},
   "outputs": [],
   "source": [
    "# Function to implement Bag of Words using CountVectorizer\n",
    "def create_bow_features(train_sentences, val_sentences, test_sentences):\n",
    "    vectorizer = CountVectorizer()\n",
    "    X_bow_train = vectorizer.fit_transform(train_sentences)\n",
    "    X_bow_val = vectorizer.transform(val_sentences)\n",
    "    X_bow_test = vectorizer.transform(test_sentences)\n",
    "    return X_bow_train, X_bow_val, X_bow_test, vectorizer.vocabulary_"
   ]
  },
  {
   "cell_type": "code",
   "execution_count": 39,
   "id": "a1a8fc35-2072-42a6-b0cd-04e184b53243",
   "metadata": {},
   "outputs": [
    {
     "data": {
      "text/html": [
       "<div>\n",
       "<style scoped>\n",
       "    .dataframe tbody tr th:only-of-type {\n",
       "        vertical-align: middle;\n",
       "    }\n",
       "\n",
       "    .dataframe tbody tr th {\n",
       "        vertical-align: top;\n",
       "    }\n",
       "\n",
       "    .dataframe thead th {\n",
       "        text-align: right;\n",
       "    }\n",
       "</style>\n",
       "<table border=\"1\" class=\"dataframe\">\n",
       "  <thead>\n",
       "    <tr style=\"text-align: right;\">\n",
       "      <th></th>\n",
       "      <th>idx</th>\n",
       "      <th>sentence</th>\n",
       "      <th>label</th>\n",
       "    </tr>\n",
       "  </thead>\n",
       "  <tbody>\n",
       "    <tr>\n",
       "      <th>0</th>\n",
       "      <td>0</td>\n",
       "      <td>hide new secretions from the parental units</td>\n",
       "      <td>0</td>\n",
       "    </tr>\n",
       "    <tr>\n",
       "      <th>1</th>\n",
       "      <td>1</td>\n",
       "      <td>contains no wit , only labored gags</td>\n",
       "      <td>0</td>\n",
       "    </tr>\n",
       "    <tr>\n",
       "      <th>2</th>\n",
       "      <td>2</td>\n",
       "      <td>that loves its characters and communicates som...</td>\n",
       "      <td>1</td>\n",
       "    </tr>\n",
       "    <tr>\n",
       "      <th>3</th>\n",
       "      <td>3</td>\n",
       "      <td>remains utterly satisfied to remain the same t...</td>\n",
       "      <td>0</td>\n",
       "    </tr>\n",
       "    <tr>\n",
       "      <th>4</th>\n",
       "      <td>4</td>\n",
       "      <td>on the worst revenge-of-the-nerds clichés the ...</td>\n",
       "      <td>0</td>\n",
       "    </tr>\n",
       "    <tr>\n",
       "      <th>...</th>\n",
       "      <td>...</td>\n",
       "      <td>...</td>\n",
       "      <td>...</td>\n",
       "    </tr>\n",
       "    <tr>\n",
       "      <th>67344</th>\n",
       "      <td>67344</td>\n",
       "      <td>a delightful comedy</td>\n",
       "      <td>1</td>\n",
       "    </tr>\n",
       "    <tr>\n",
       "      <th>67345</th>\n",
       "      <td>67345</td>\n",
       "      <td>anguish , anger and frustration</td>\n",
       "      <td>0</td>\n",
       "    </tr>\n",
       "    <tr>\n",
       "      <th>67346</th>\n",
       "      <td>67346</td>\n",
       "      <td>at achieving the modest , crowd-pleasing goals...</td>\n",
       "      <td>1</td>\n",
       "    </tr>\n",
       "    <tr>\n",
       "      <th>67347</th>\n",
       "      <td>67347</td>\n",
       "      <td>a patient viewer</td>\n",
       "      <td>1</td>\n",
       "    </tr>\n",
       "    <tr>\n",
       "      <th>67348</th>\n",
       "      <td>67348</td>\n",
       "      <td>this new jangle of noise , mayhem and stupidit...</td>\n",
       "      <td>0</td>\n",
       "    </tr>\n",
       "  </tbody>\n",
       "</table>\n",
       "<p>67349 rows × 3 columns</p>\n",
       "</div>"
      ],
      "text/plain": [
       "         idx                                           sentence  label\n",
       "0          0       hide new secretions from the parental units       0\n",
       "1          1               contains no wit , only labored gags       0\n",
       "2          2  that loves its characters and communicates som...      1\n",
       "3          3  remains utterly satisfied to remain the same t...      0\n",
       "4          4  on the worst revenge-of-the-nerds clichés the ...      0\n",
       "...      ...                                                ...    ...\n",
       "67344  67344                               a delightful comedy       1\n",
       "67345  67345                   anguish , anger and frustration       0\n",
       "67346  67346  at achieving the modest , crowd-pleasing goals...      1\n",
       "67347  67347                                  a patient viewer       1\n",
       "67348  67348  this new jangle of noise , mayhem and stupidit...      0\n",
       "\n",
       "[67349 rows x 3 columns]"
      ]
     },
     "execution_count": 39,
     "metadata": {},
     "output_type": "execute_result"
    }
   ],
   "source": [
    "sst_df_train"
   ]
  },
  {
   "cell_type": "code",
   "execution_count": 40,
   "id": "8af6eeb8-c6f5-4d66-9423-b50079ec5b45",
   "metadata": {},
   "outputs": [],
   "source": [
    "# Create Bag of Words representation\n",
    "X_bow_train, X_bow_val, X_bow_test, bow_vocab = create_bow_features(\n",
    "    sst_df_train['sentence'],\n",
    "    sst_df_val['sentence'],\n",
    "    sst_df_test['sentence']\n",
    ")"
   ]
  },
  {
   "cell_type": "code",
   "execution_count": 41,
   "id": "c78d5a3a-e9b3-4b28-811a-fefbc0365a2d",
   "metadata": {},
   "outputs": [
    {
     "name": "stdout",
     "output_type": "stream",
     "text": [
      "Bag of Words Matrix (Train):\n",
      " [[0 0 0 ... 0 0 0]\n",
      " [0 0 0 ... 0 0 0]\n",
      " [0 0 0 ... 0 0 0]\n",
      " ...\n",
      " [0 0 0 ... 0 0 0]\n",
      " [0 0 0 ... 0 0 0]\n",
      " [0 0 0 ... 0 0 0]]\n"
     ]
    }
   ],
   "source": [
    "print(\"Bag of Words Matrix (Train):\\n\", X_bow_train.toarray())"
   ]
  },
  {
   "cell_type": "code",
   "execution_count": 42,
   "id": "7c728281-df5b-4701-87b3-2062f2dfcb0c",
   "metadata": {},
   "outputs": [
    {
     "data": {
      "text/plain": [
       "(67349, 13774)"
      ]
     },
     "execution_count": 42,
     "metadata": {},
     "output_type": "execute_result"
    }
   ],
   "source": [
    "X_bow_train.shape"
   ]
  },
  {
   "cell_type": "code",
   "execution_count": 43,
   "id": "a279406f-2f96-42a2-9015-34692dba3ef4",
   "metadata": {},
   "outputs": [
    {
     "data": {
      "text/plain": [
       "(1821, 13774)"
      ]
     },
     "execution_count": 43,
     "metadata": {},
     "output_type": "execute_result"
    }
   ],
   "source": [
    "X_bow_test.shape"
   ]
  },
  {
   "cell_type": "code",
   "execution_count": 44,
   "id": "05afefc9-fb80-4c80-87e0-1489721083a2",
   "metadata": {},
   "outputs": [
    {
     "data": {
      "text/plain": [
       "(872, 13774)"
      ]
     },
     "execution_count": 44,
     "metadata": {},
     "output_type": "execute_result"
    }
   ],
   "source": [
    "X_bow_val.shape"
   ]
  },
  {
   "cell_type": "code",
   "execution_count": 45,
   "id": "cd28c08e-9166-4883-870a-8db6b8623f2a",
   "metadata": {},
   "outputs": [],
   "source": [
    "# Prepare labels for training and testing sets\n",
    "y_bow_train = sst_df_train['label'].values  # Assuming 'label' is the target column\n",
    "y_bow_val = sst_df_val['label'].values\n",
    "y_bow_test = sst_df_test['label'].values"
   ]
  },
  {
   "cell_type": "code",
   "execution_count": 46,
   "id": "eb5b3c73-fd0e-4a55-b337-3e685a5a512d",
   "metadata": {},
   "outputs": [
    {
     "data": {
      "text/plain": [
       "(67349,)"
      ]
     },
     "execution_count": 46,
     "metadata": {},
     "output_type": "execute_result"
    }
   ],
   "source": [
    "y_bow_train.shape"
   ]
  },
  {
   "cell_type": "code",
   "execution_count": 47,
   "id": "34df3527-a15e-46e4-8703-7ba1d4ff019f",
   "metadata": {},
   "outputs": [
    {
     "data": {
      "text/plain": [
       "(1821,)"
      ]
     },
     "execution_count": 47,
     "metadata": {},
     "output_type": "execute_result"
    }
   ],
   "source": [
    "y_bow_test.shape"
   ]
  },
  {
   "cell_type": "code",
   "execution_count": 48,
   "id": "c9049f27-8656-4722-8f0f-f80f2e56c63a",
   "metadata": {},
   "outputs": [
    {
     "name": "stdout",
     "output_type": "stream",
     "text": [
      "Evaluating Bag of Words:\n",
      "Validation Classification Report:\n",
      "              precision    recall  f1-score   support\n",
      "\n",
      "           0       0.84      0.78      0.81       428\n",
      "           1       0.80      0.86      0.83       444\n",
      "\n",
      "    accuracy                           0.82       872\n",
      "   macro avg       0.82      0.82      0.82       872\n",
      "weighted avg       0.82      0.82      0.82       872\n",
      "\n"
     ]
    },
    {
     "data": {
      "image/png": "[encoded data removed]",
      "text/plain": [
       "<Figure size 640x480 with 2 Axes>"
      ]
     },
     "metadata": {},
     "output_type": "display_data"
    },
    {
     "name": "stdout",
     "output_type": "stream",
     "text": [
      "Test Classification Report:\n",
      "              precision    recall  f1-score   support\n",
      "\n",
      "           0       1.00      0.47      0.64      1821\n",
      "           1       0.00      0.00      0.00         0\n",
      "\n",
      "    accuracy                           0.47      1821\n",
      "   macro avg       0.50      0.23      0.32      1821\n",
      "weighted avg       1.00      0.47      0.64      1821\n",
      "\n"
     ]
    },
    {
     "data": {
      "image/png": "[encoded data removed]",
      "text/plain": [
       "<Figure size 640x480 with 2 Axes>"
      ]
     },
     "metadata": {},
     "output_type": "display_data"
    }
   ],
   "source": [
    "# Evaluate Bag of Words embeddings\n",
    "print(\"Evaluating Bag of Words:\")\n",
    "evaluate_classifier(X_bow_train, X_bow_val, X_bow_test, y_bow_train, y_bow_val, y_bow_test)"
   ]
  },
  {
   "cell_type": "markdown",
   "id": "8d1fcd59-cf44-4ce0-9290-ff727cc58ccc",
   "metadata": {},
   "source": [
    "## Detailed Explanation of Techniques:\n",
    " \n",
    " - **Word2Vec:** This technique uses neural networks to learn embeddings that reflect semantic relationships based on context. It can be trained using two architectures: Continuous Bag of Words (CBOW) or Skip-Gram.\n",
    "GloVe: Unlike Word2Vec, which uses local context windows, GloVe captures global statistical information by factorizing a matrix of word co-occurrences.\n",
    "\n",
    "  - **TF-IDF:** This method builds on BoW by calculating how important a word is to a document relative to its frequency across all documents. It helps reduce the weight of common words that may not be informative.\n",
    "\n",
    "  - **FastText:** This method improves upon Word2Vec by considering subword information (character n-grams), which allows it to generate embeddings for words not seen during training.\n",
    "\n",
    "  - **Bag of Words:** This method creates a sparse matrix where each row represents a document and each column represents a unique word from the corpus. The values are counts of how often each word appears in each document.\n",
    "\n",
    "These techniques collectively enhance our ability to analyze and understand text data semantically and contextually, enabling more effective natural language processing applications."
   ]
  }
 ],
 "metadata": {
  "kernelspec": {
   "display_name": "Python 3 (ipykernel)",
   "language": "python",
   "name": "python3"
  },
  "language_info": {
   "codemirror_mode": {
    "name": "ipython",
    "version": 3
   },
   "file_extension": ".py",
   "mimetype": "text/x-python",
   "name": "python",
   "nbconvert_exporter": "python",
   "pygments_lexer": "ipython3",
   "version": "3.10.14"
  }
 },
 "nbformat": 4,
 "nbformat_minor": 5
}
